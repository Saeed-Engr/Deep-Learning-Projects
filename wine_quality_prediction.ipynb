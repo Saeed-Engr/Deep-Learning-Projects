{
 "cells": [
  {
   "cell_type": "code",
   "execution_count": 1,
   "metadata": {},
   "outputs": [],
   "source": [
    "import pandas as pd"
   ]
  },
  {
   "cell_type": "code",
   "execution_count": 2,
   "metadata": {},
   "outputs": [],
   "source": [
    "data = pd.read_csv('winequality-red.csv')"
   ]
  },
  {
   "cell_type": "code",
   "execution_count": 3,
   "metadata": {},
   "outputs": [
    {
     "data": {
      "text/html": [
       "<div>\n",
       "<style scoped>\n",
       "    .dataframe tbody tr th:only-of-type {\n",
       "        vertical-align: middle;\n",
       "    }\n",
       "\n",
       "    .dataframe tbody tr th {\n",
       "        vertical-align: top;\n",
       "    }\n",
       "\n",
       "    .dataframe thead th {\n",
       "        text-align: right;\n",
       "    }\n",
       "</style>\n",
       "<table border=\"1\" class=\"dataframe\">\n",
       "  <thead>\n",
       "    <tr style=\"text-align: right;\">\n",
       "      <th></th>\n",
       "      <th>fixed acidity</th>\n",
       "      <th>volatile acidity</th>\n",
       "      <th>citric acid</th>\n",
       "      <th>residual sugar</th>\n",
       "      <th>chlorides</th>\n",
       "      <th>free sulfur dioxide</th>\n",
       "      <th>total sulfur dioxide</th>\n",
       "      <th>density</th>\n",
       "      <th>pH</th>\n",
       "      <th>sulphates</th>\n",
       "      <th>alcohol</th>\n",
       "      <th>quality</th>\n",
       "    </tr>\n",
       "  </thead>\n",
       "  <tbody>\n",
       "    <tr>\n",
       "      <th>0</th>\n",
       "      <td>7.4</td>\n",
       "      <td>0.70</td>\n",
       "      <td>0.00</td>\n",
       "      <td>1.9</td>\n",
       "      <td>0.076</td>\n",
       "      <td>11.0</td>\n",
       "      <td>34.0</td>\n",
       "      <td>0.9978</td>\n",
       "      <td>3.51</td>\n",
       "      <td>0.56</td>\n",
       "      <td>9.4</td>\n",
       "      <td>5</td>\n",
       "    </tr>\n",
       "    <tr>\n",
       "      <th>1</th>\n",
       "      <td>7.8</td>\n",
       "      <td>0.88</td>\n",
       "      <td>0.00</td>\n",
       "      <td>2.6</td>\n",
       "      <td>0.098</td>\n",
       "      <td>25.0</td>\n",
       "      <td>67.0</td>\n",
       "      <td>0.9968</td>\n",
       "      <td>3.20</td>\n",
       "      <td>0.68</td>\n",
       "      <td>9.8</td>\n",
       "      <td>5</td>\n",
       "    </tr>\n",
       "    <tr>\n",
       "      <th>2</th>\n",
       "      <td>7.8</td>\n",
       "      <td>0.76</td>\n",
       "      <td>0.04</td>\n",
       "      <td>2.3</td>\n",
       "      <td>0.092</td>\n",
       "      <td>15.0</td>\n",
       "      <td>54.0</td>\n",
       "      <td>0.9970</td>\n",
       "      <td>3.26</td>\n",
       "      <td>0.65</td>\n",
       "      <td>9.8</td>\n",
       "      <td>5</td>\n",
       "    </tr>\n",
       "    <tr>\n",
       "      <th>3</th>\n",
       "      <td>11.2</td>\n",
       "      <td>0.28</td>\n",
       "      <td>0.56</td>\n",
       "      <td>1.9</td>\n",
       "      <td>0.075</td>\n",
       "      <td>17.0</td>\n",
       "      <td>60.0</td>\n",
       "      <td>0.9980</td>\n",
       "      <td>3.16</td>\n",
       "      <td>0.58</td>\n",
       "      <td>9.8</td>\n",
       "      <td>6</td>\n",
       "    </tr>\n",
       "    <tr>\n",
       "      <th>4</th>\n",
       "      <td>7.4</td>\n",
       "      <td>0.70</td>\n",
       "      <td>0.00</td>\n",
       "      <td>1.9</td>\n",
       "      <td>0.076</td>\n",
       "      <td>11.0</td>\n",
       "      <td>34.0</td>\n",
       "      <td>0.9978</td>\n",
       "      <td>3.51</td>\n",
       "      <td>0.56</td>\n",
       "      <td>9.4</td>\n",
       "      <td>5</td>\n",
       "    </tr>\n",
       "  </tbody>\n",
       "</table>\n",
       "</div>"
      ],
      "text/plain": [
       "   fixed acidity  volatile acidity  citric acid  residual sugar  chlorides  \\\n",
       "0            7.4              0.70         0.00             1.9      0.076   \n",
       "1            7.8              0.88         0.00             2.6      0.098   \n",
       "2            7.8              0.76         0.04             2.3      0.092   \n",
       "3           11.2              0.28         0.56             1.9      0.075   \n",
       "4            7.4              0.70         0.00             1.9      0.076   \n",
       "\n",
       "   free sulfur dioxide  total sulfur dioxide  density    pH  sulphates  \\\n",
       "0                 11.0                  34.0   0.9978  3.51       0.56   \n",
       "1                 25.0                  67.0   0.9968  3.20       0.68   \n",
       "2                 15.0                  54.0   0.9970  3.26       0.65   \n",
       "3                 17.0                  60.0   0.9980  3.16       0.58   \n",
       "4                 11.0                  34.0   0.9978  3.51       0.56   \n",
       "\n",
       "   alcohol  quality  \n",
       "0      9.4        5  \n",
       "1      9.8        5  \n",
       "2      9.8        5  \n",
       "3      9.8        6  \n",
       "4      9.4        5  "
      ]
     },
     "execution_count": 3,
     "metadata": {},
     "output_type": "execute_result"
    }
   ],
   "source": [
    "data.head()"
   ]
  },
  {
   "cell_type": "code",
   "execution_count": 4,
   "metadata": {},
   "outputs": [
    {
     "name": "stdout",
     "output_type": "stream",
     "text": [
      "<class 'pandas.core.frame.DataFrame'>\n",
      "RangeIndex: 1599 entries, 0 to 1598\n",
      "Data columns (total 12 columns):\n",
      " #   Column                Non-Null Count  Dtype  \n",
      "---  ------                --------------  -----  \n",
      " 0   fixed acidity         1599 non-null   float64\n",
      " 1   volatile acidity      1599 non-null   float64\n",
      " 2   citric acid           1599 non-null   float64\n",
      " 3   residual sugar        1599 non-null   float64\n",
      " 4   chlorides             1599 non-null   float64\n",
      " 5   free sulfur dioxide   1599 non-null   float64\n",
      " 6   total sulfur dioxide  1599 non-null   float64\n",
      " 7   density               1599 non-null   float64\n",
      " 8   pH                    1599 non-null   float64\n",
      " 9   sulphates             1599 non-null   float64\n",
      " 10  alcohol               1599 non-null   float64\n",
      " 11  quality               1599 non-null   int64  \n",
      "dtypes: float64(11), int64(1)\n",
      "memory usage: 150.0 KB\n"
     ]
    }
   ],
   "source": [
    "data.info()"
   ]
  },
  {
   "cell_type": "code",
   "execution_count": 5,
   "metadata": {},
   "outputs": [
    {
     "data": {
      "text/plain": [
       "fixed acidity           0\n",
       "volatile acidity        0\n",
       "citric acid             0\n",
       "residual sugar          0\n",
       "chlorides               0\n",
       "free sulfur dioxide     0\n",
       "total sulfur dioxide    0\n",
       "density                 0\n",
       "pH                      0\n",
       "sulphates               0\n",
       "alcohol                 0\n",
       "quality                 0\n",
       "dtype: int64"
      ]
     },
     "execution_count": 5,
     "metadata": {},
     "output_type": "execute_result"
    }
   ],
   "source": [
    "data.isnull().sum()"
   ]
  },
  {
   "cell_type": "code",
   "execution_count": 7,
   "metadata": {},
   "outputs": [
    {
     "data": {
      "text/plain": [
       "(1599, 12)"
      ]
     },
     "execution_count": 7,
     "metadata": {},
     "output_type": "execute_result"
    }
   ],
   "source": [
    "data.shape"
   ]
  },
  {
   "cell_type": "code",
   "execution_count": 8,
   "metadata": {},
   "outputs": [
    {
     "data": {
      "text/plain": [
       "Index(['fixed acidity', 'volatile acidity', 'citric acid', 'residual sugar',\n",
       "       'chlorides', 'free sulfur dioxide', 'total sulfur dioxide', 'density',\n",
       "       'pH', 'sulphates', 'alcohol', 'quality'],\n",
       "      dtype='object')"
      ]
     },
     "execution_count": 8,
     "metadata": {},
     "output_type": "execute_result"
    }
   ],
   "source": [
    "data.columns"
   ]
  },
  {
   "cell_type": "code",
   "execution_count": 9,
   "metadata": {},
   "outputs": [],
   "source": [
    "import matplotlib as plt"
   ]
  },
  {
   "cell_type": "code",
   "execution_count": 10,
   "metadata": {},
   "outputs": [
    {
     "data": {
      "text/plain": [
       "<matplotlib.axes._subplots.AxesSubplot at 0x7fb248355250>"
      ]
     },
     "execution_count": 10,
     "metadata": {},
     "output_type": "execute_result"
    },
    {
     "data": {
      "image/png": "[encoded data removed]",
      "text/plain": [
       "<Figure size 432x288 with 1 Axes>"
      ]
     },
     "metadata": {
      "needs_background": "light"
     },
     "output_type": "display_data"
    }
   ],
   "source": [
    "data['density'].hist()"
   ]
  },
  {
   "cell_type": "code",
   "execution_count": 11,
   "metadata": {},
   "outputs": [],
   "source": [
    "from sklearn.model_selection import train_test_split"
   ]
  },
  {
   "cell_type": "code",
   "execution_count": 15,
   "metadata": {},
   "outputs": [
    {
     "data": {
      "text/plain": [
       "(1599,)"
      ]
     },
     "execution_count": 15,
     "metadata": {},
     "output_type": "execute_result"
    }
   ],
   "source": [
    "data.quality.shape"
   ]
  },
  {
   "cell_type": "code",
   "execution_count": 14,
   "metadata": {},
   "outputs": [],
   "source": [
    "import numpy as np\n",
    "x = data.iloc[:,0:11]\n",
    "y = np.ravel(data.quality)"
   ]
  },
  {
   "cell_type": "code",
   "execution_count": 16,
   "metadata": {},
   "outputs": [],
   "source": [
    "x_train, x_test, y_train, y_test = train_test_split(x, y, train_size=0.70,test_size=0.30, random_state=0)"
   ]
  },
  {
   "cell_type": "code",
   "execution_count": 17,
   "metadata": {},
   "outputs": [],
   "source": [
    "mean = x_train.mean(axis=0)\n",
    "x_train = x_train-mean\n",
    "std = x_train.std(axis=0)\n",
    "x_train = x_train/std\n",
    "x_test = x_test - mean\n",
    "x_test = x_test/std"
   ]
  },
  {
   "cell_type": "code",
   "execution_count": 18,
   "metadata": {},
   "outputs": [],
   "source": [
    "from tensorflow.keras import layers\n",
    "from tensorflow.keras import models\n",
    "\n",
    "model = models.Sequential()\n",
    "model.add(layers.Dense(164, activation='relu'))\n",
    "model.add(layers.Dense(64, activation='relu'))\n",
    "model.add(layers.Dense(1))"
   ]
  },
  {
   "cell_type": "code",
   "execution_count": 29,
   "metadata": {},
   "outputs": [],
   "source": [
    "model.compile(optimizer='rmsprop', loss='mse', metrics=['mse'])"
   ]
  },
  {
   "cell_type": "code",
   "execution_count": 30,
   "metadata": {},
   "outputs": [],
   "source": [
    "x_train = x_train.astype('float32')\n",
    "x_test = x_test.astype('float32')"
   ]
  },
  {
   "cell_type": "code",
   "execution_count": 32,
   "metadata": {},
   "outputs": [
    {
     "name": "stdout",
     "output_type": "stream",
     "text": [
      "Epoch 1/25\n",
      "9/9 [==============================] - 0s 11ms/step - loss: 0.5514 - mse: 0.5514\n",
      "Epoch 2/25\n",
      "9/9 [==============================] - 0s 11ms/step - loss: 0.5541 - mse: 0.5541\n",
      "Epoch 3/25\n",
      "9/9 [==============================] - 0s 9ms/step - loss: 0.4991 - mse: 0.4991\n",
      "Epoch 4/25\n",
      "9/9 [==============================] - 0s 9ms/step - loss: 0.5414 - mse: 0.5414\n",
      "Epoch 5/25\n",
      "9/9 [==============================] - 0s 10ms/step - loss: 0.4868 - mse: 0.4868\n",
      "Epoch 6/25\n",
      "9/9 [==============================] - 0s 11ms/step - loss: 0.4614 - mse: 0.4614\n",
      "Epoch 7/25\n",
      "9/9 [==============================] - 0s 8ms/step - loss: 0.4636 - mse: 0.4636\n",
      "Epoch 8/25\n",
      "9/9 [==============================] - 0s 8ms/step - loss: 0.4163 - mse: 0.4163\n",
      "Epoch 9/25\n",
      "9/9 [==============================] - 0s 10ms/step - loss: 0.4574 - mse: 0.4574\n",
      "Epoch 10/25\n",
      "9/9 [==============================] - 0s 9ms/step - loss: 0.4005 - mse: 0.4005\n",
      "Epoch 11/25\n",
      "9/9 [==============================] - 0s 9ms/step - loss: 0.4197 - mse: 0.4197\n",
      "Epoch 12/25\n",
      "9/9 [==============================] - 0s 8ms/step - loss: 0.4291 - mse: 0.4291\n",
      "Epoch 13/25\n",
      "9/9 [==============================] - 0s 12ms/step - loss: 0.3764 - mse: 0.3764\n",
      "Epoch 14/25\n",
      "9/9 [==============================] - 0s 9ms/step - loss: 0.4331 - mse: 0.4331A: 0s - loss: 0.4345 - mse: 0.434\n",
      "Epoch 15/25\n",
      "9/9 [==============================] - 0s 8ms/step - loss: 0.3703 - mse: 0.3703\n",
      "Epoch 16/25\n",
      "9/9 [==============================] - 0s 10ms/step - loss: 0.4044 - mse: 0.4044\n",
      "Epoch 17/25\n",
      "9/9 [==============================] - 0s 8ms/step - loss: 0.3821 - mse: 0.3821\n",
      "Epoch 18/25\n",
      "9/9 [==============================] - 0s 8ms/step - loss: 0.3878 - mse: 0.3878\n",
      "Epoch 19/25\n",
      "9/9 [==============================] - 0s 10ms/step - loss: 0.3440 - mse: 0.3440\n",
      "Epoch 20/25\n",
      "9/9 [==============================] - 0s 10ms/step - loss: 0.3725 - mse: 0.3725\n",
      "Epoch 21/25\n",
      "9/9 [==============================] - 0s 10ms/step - loss: 0.3902 - mse: 0.3902\n",
      "Epoch 22/25\n",
      "9/9 [==============================] - 0s 7ms/step - loss: 0.3396 - mse: 0.3396\n",
      "Epoch 23/25\n",
      "9/9 [==============================] - 0s 7ms/step - loss: 0.3715 - mse: 0.3715\n",
      "Epoch 24/25\n",
      "9/9 [==============================] - 0s 10ms/step - loss: 0.3170 - mse: 0.3170\n",
      "Epoch 25/25\n",
      "9/9 [==============================] - 0s 10ms/step - loss: 0.3228 - mse: 0.3228\n"
     ]
    },
    {
     "data": {
      "text/plain": [
       "<tensorflow.python.keras.callbacks.History at 0x7fb1db672a90>"
      ]
     },
     "execution_count": 32,
     "metadata": {},
     "output_type": "execute_result"
    }
   ],
   "source": [
    "model.fit(x_train,y_train, epochs=25, batch_size=128)"
   ]
  },
  {
   "cell_type": "code",
   "execution_count": 34,
   "metadata": {},
   "outputs": [
    {
     "name": "stdout",
     "output_type": "stream",
     "text": [
      "mse  0.4839610755443573\n"
     ]
    }
   ],
   "source": [
    "mse, mae = model.evaluate(x_test, y_test, verbose=0)\n",
    "print('mse ',mse)"
   ]
  },
  {
   "cell_type": "code",
   "execution_count": 35,
   "metadata": {},
   "outputs": [],
   "source": [
    "y_pred = model.predict(x_test)"
   ]
  },
  {
   "cell_type": "code",
   "execution_count": 44,
   "metadata": {},
   "outputs": [
    {
     "data": {
      "text/plain": [
       "array([[5.268107 ],\n",
       "       [5.038668 ],\n",
       "       [6.45139  ],\n",
       "       [4.7318554],\n",
       "       [5.6846776],\n",
       "       [5.700415 ],\n",
       "       [4.843516 ],\n",
       "       [5.9804754],\n",
       "       [4.4812913],\n",
       "       [5.33777  ],\n",
       "       [4.812083 ],\n",
       "       [5.3114877],\n",
       "       [5.205959 ],\n",
       "       [5.013848 ],\n",
       "       [5.4906354],\n",
       "       [5.8779597],\n",
       "       [6.447374 ],\n",
       "       [5.1731267],\n",
       "       [4.616447 ],\n",
       "       [5.5159583],\n",
       "       [5.945153 ],\n",
       "       [5.098988 ],\n",
       "       [5.4715724],\n",
       "       [6.7156634],\n",
       "       [5.5593457],\n",
       "       [4.917976 ],\n",
       "       [5.3124814],\n",
       "       [6.250076 ],\n",
       "       [4.7665715],\n",
       "       [5.2269406],\n",
       "       [5.536615 ],\n",
       "       [5.8034663],\n",
       "       [5.3186936],\n",
       "       [4.78139  ],\n",
       "       [5.6241927],\n",
       "       [6.1465383],\n",
       "       [5.088251 ],\n",
       "       [5.7521844],\n",
       "       [5.5310607],\n",
       "       [5.6689987],\n",
       "       [5.597016 ],\n",
       "       [6.132016 ],\n",
       "       [6.7872486],\n",
       "       [6.1655054],\n",
       "       [5.415647 ],\n",
       "       [5.080687 ],\n",
       "       [4.9609227],\n",
       "       [5.4374537],\n",
       "       [4.912023 ],\n",
       "       [5.637338 ],\n",
       "       [4.835124 ],\n",
       "       [5.4424005],\n",
       "       [5.6796103],\n",
       "       [5.960263 ],\n",
       "       [5.4937735],\n",
       "       [4.9998574],\n",
       "       [4.9993463],\n",
       "       [5.055785 ],\n",
       "       [6.2468867],\n",
       "       [5.497764 ],\n",
       "       [4.861859 ],\n",
       "       [5.4070926],\n",
       "       [6.024954 ],\n",
       "       [6.1327252],\n",
       "       [5.042667 ],\n",
       "       [5.513423 ],\n",
       "       [4.8696675],\n",
       "       [5.193406 ],\n",
       "       [5.926202 ],\n",
       "       [5.750438 ],\n",
       "       [5.0870595],\n",
       "       [5.2932954],\n",
       "       [5.0749726],\n",
       "       [4.974751 ],\n",
       "       [5.374532 ],\n",
       "       [5.255115 ],\n",
       "       [5.495688 ],\n",
       "       [5.3628974],\n",
       "       [5.2889285],\n",
       "       [6.328174 ],\n",
       "       [5.2157693],\n",
       "       [5.3688636],\n",
       "       [5.6443353],\n",
       "       [5.708262 ],\n",
       "       [5.1797786],\n",
       "       [5.0497847],\n",
       "       [6.2202897],\n",
       "       [4.679029 ],\n",
       "       [5.3353553],\n",
       "       [4.7931437],\n",
       "       [4.9245334],\n",
       "       [4.6922307],\n",
       "       [5.5146747],\n",
       "       [5.1167903],\n",
       "       [5.626704 ],\n",
       "       [5.0870595],\n",
       "       [6.3819547],\n",
       "       [4.910891 ],\n",
       "       [5.7773085],\n",
       "       [5.890349 ],\n",
       "       [6.550922 ],\n",
       "       [6.3942695],\n",
       "       [5.4813857],\n",
       "       [6.629656 ],\n",
       "       [5.128623 ],\n",
       "       [4.8022885],\n",
       "       [5.128623 ],\n",
       "       [5.3031073],\n",
       "       [5.0869126],\n",
       "       [5.189489 ],\n",
       "       [5.3939767],\n",
       "       [4.834183 ],\n",
       "       [6.3103538],\n",
       "       [5.2817073],\n",
       "       [5.3313913],\n",
       "       [5.3829713],\n",
       "       [5.873842 ],\n",
       "       [5.9818788],\n",
       "       [5.3577533],\n",
       "       [5.4715724],\n",
       "       [5.2544355],\n",
       "       [6.2151823],\n",
       "       [5.484451 ],\n",
       "       [5.2823806],\n",
       "       [5.7264752],\n",
       "       [6.119866 ],\n",
       "       [5.0567813],\n",
       "       [5.076351 ],\n",
       "       [5.460567 ],\n",
       "       [6.2771044],\n",
       "       [5.3981214],\n",
       "       [5.2537885],\n",
       "       [5.7156425],\n",
       "       [5.76209  ],\n",
       "       [6.120724 ],\n",
       "       [5.106714 ],\n",
       "       [5.6894975],\n",
       "       [5.397966 ],\n",
       "       [6.023149 ],\n",
       "       [4.9510503],\n",
       "       [4.908381 ],\n",
       "       [5.3580117],\n",
       "       [4.9609227],\n",
       "       [5.2931848],\n",
       "       [5.816603 ],\n",
       "       [5.322603 ],\n",
       "       [6.3103538],\n",
       "       [6.2762675],\n",
       "       [6.109946 ],\n",
       "       [4.902595 ],\n",
       "       [5.6792984],\n",
       "       [5.9706235],\n",
       "       [5.3031073],\n",
       "       [4.9259753],\n",
       "       [5.5379443],\n",
       "       [4.971775 ],\n",
       "       [5.160832 ],\n",
       "       [5.249089 ],\n",
       "       [5.583526 ],\n",
       "       [6.1958346],\n",
       "       [4.96328  ],\n",
       "       [5.199923 ],\n",
       "       [5.697743 ],\n",
       "       [5.549521 ],\n",
       "       [5.1131835],\n",
       "       [4.8168483],\n",
       "       [5.7602754],\n",
       "       [5.661773 ],\n",
       "       [5.773113 ],\n",
       "       [5.6722627],\n",
       "       [6.1291404],\n",
       "       [5.5701146],\n",
       "       [5.216843 ],\n",
       "       [6.719528 ],\n",
       "       [5.4397025],\n",
       "       [5.485005 ],\n",
       "       [5.747342 ],\n",
       "       [6.3610225],\n",
       "       [5.6588273],\n",
       "       [5.220975 ],\n",
       "       [5.2701573],\n",
       "       [6.6279225],\n",
       "       [5.2881713],\n",
       "       [6.2640185],\n",
       "       [6.1997075],\n",
       "       [5.415788 ],\n",
       "       [5.401131 ],\n",
       "       [5.4813857],\n",
       "       [4.901567 ],\n",
       "       [6.022713 ],\n",
       "       [5.9116516],\n",
       "       [5.8881474],\n",
       "       [5.755632 ],\n",
       "       [5.739462 ],\n",
       "       [5.0483584],\n",
       "       [5.3887753],\n",
       "       [4.812083 ],\n",
       "       [4.744882 ],\n",
       "       [5.5005746],\n",
       "       [4.6369133],\n",
       "       [5.1424165],\n",
       "       [5.711146 ],\n",
       "       [5.19012  ],\n",
       "       [5.5177875],\n",
       "       [5.57157  ],\n",
       "       [4.59627  ],\n",
       "       [5.007282 ],\n",
       "       [5.701648 ],\n",
       "       [5.725695 ],\n",
       "       [5.4511347],\n",
       "       [5.1807256],\n",
       "       [6.128503 ],\n",
       "       [5.2830186],\n",
       "       [6.221259 ],\n",
       "       [5.158674 ],\n",
       "       [5.4634247],\n",
       "       [5.868088 ],\n",
       "       [6.101773 ],\n",
       "       [5.338803 ],\n",
       "       [5.6984878],\n",
       "       [4.869431 ],\n",
       "       [5.4447694],\n",
       "       [5.9634776],\n",
       "       [5.397037 ],\n",
       "       [5.584278 ],\n",
       "       [5.9753556],\n",
       "       [5.6774983],\n",
       "       [5.6177745],\n",
       "       [5.204673 ],\n",
       "       [5.47749  ],\n",
       "       [4.99554  ],\n",
       "       [5.573467 ],\n",
       "       [4.428474 ],\n",
       "       [5.460196 ],\n",
       "       [6.311537 ],\n",
       "       [5.6146827],\n",
       "       [5.5636096],\n",
       "       [6.366041 ],\n",
       "       [6.029077 ],\n",
       "       [5.7349024],\n",
       "       [5.2668486],\n",
       "       [4.828144 ],\n",
       "       [5.410933 ],\n",
       "       [4.905104 ],\n",
       "       [5.7660127],\n",
       "       [5.423102 ],\n",
       "       [5.405446 ],\n",
       "       [4.695339 ],\n",
       "       [5.3417277],\n",
       "       [5.7677245],\n",
       "       [5.4495645],\n",
       "       [4.7230096],\n",
       "       [5.165515 ],\n",
       "       [4.982542 ],\n",
       "       [5.459705 ],\n",
       "       [5.4380293],\n",
       "       [4.877921 ],\n",
       "       [4.7606626],\n",
       "       [5.267903 ],\n",
       "       [5.6396337],\n",
       "       [5.256147 ],\n",
       "       [5.939962 ],\n",
       "       [6.0821996],\n",
       "       [5.252858 ],\n",
       "       [5.114042 ],\n",
       "       [4.5496707],\n",
       "       [4.914961 ],\n",
       "       [4.5312085],\n",
       "       [5.8938866],\n",
       "       [6.181016 ],\n",
       "       [5.247495 ],\n",
       "       [5.778319 ],\n",
       "       [4.7017045],\n",
       "       [5.1362576],\n",
       "       [5.7105165],\n",
       "       [5.893479 ],\n",
       "       [6.0353956],\n",
       "       [5.0794644],\n",
       "       [6.052709 ],\n",
       "       [6.0090084],\n",
       "       [5.391195 ],\n",
       "       [6.402969 ],\n",
       "       [5.778319 ],\n",
       "       [5.6220217],\n",
       "       [5.564855 ],\n",
       "       [5.205711 ],\n",
       "       [4.5535693],\n",
       "       [5.0861135],\n",
       "       [5.8682513],\n",
       "       [5.6077113],\n",
       "       [5.4240804],\n",
       "       [4.5703397],\n",
       "       [6.424496 ],\n",
       "       [5.525    ],\n",
       "       [5.2192483],\n",
       "       [5.5874667],\n",
       "       [4.9998426],\n",
       "       [5.0613127],\n",
       "       [4.7538977],\n",
       "       [5.578067 ],\n",
       "       [5.527823 ],\n",
       "       [4.2765365],\n",
       "       [5.3585167],\n",
       "       [5.506259 ],\n",
       "       [5.604848 ],\n",
       "       [5.5647526],\n",
       "       [4.584818 ],\n",
       "       [4.5736356],\n",
       "       [5.217814 ],\n",
       "       [5.0548615],\n",
       "       [5.692264 ],\n",
       "       [5.95199  ],\n",
       "       [5.0032716],\n",
       "       [4.910891 ],\n",
       "       [5.105462 ],\n",
       "       [5.666708 ],\n",
       "       [5.452104 ],\n",
       "       [5.805375 ],\n",
       "       [5.162301 ],\n",
       "       [6.022755 ],\n",
       "       [5.0548615],\n",
       "       [5.0751166],\n",
       "       [6.019091 ],\n",
       "       [5.6655593],\n",
       "       [5.2457094],\n",
       "       [5.5374084],\n",
       "       [6.319903 ],\n",
       "       [5.3992534],\n",
       "       [4.9819636],\n",
       "       [5.1569276],\n",
       "       [6.502227 ],\n",
       "       [4.875365 ],\n",
       "       [4.9085193],\n",
       "       [6.022713 ],\n",
       "       [5.071264 ],\n",
       "       [5.8839917],\n",
       "       [5.943586 ],\n",
       "       [5.4072475],\n",
       "       [5.3223543],\n",
       "       [4.9940276],\n",
       "       [5.1456823],\n",
       "       [4.817572 ],\n",
       "       [4.8696675],\n",
       "       [5.8159957],\n",
       "       [5.5874667],\n",
       "       [5.3266644],\n",
       "       [5.498262 ],\n",
       "       [5.16253  ],\n",
       "       [6.1958985],\n",
       "       [6.1849666],\n",
       "       [5.4694667],\n",
       "       [6.048492 ],\n",
       "       [5.327333 ],\n",
       "       [5.445358 ],\n",
       "       [6.228247 ],\n",
       "       [4.060356 ],\n",
       "       [5.9116516],\n",
       "       [5.2317524],\n",
       "       [5.823401 ],\n",
       "       [6.186555 ],\n",
       "       [5.0058765],\n",
       "       [5.7677245],\n",
       "       [5.2275167],\n",
       "       [6.097826 ],\n",
       "       [5.338337 ],\n",
       "       [5.6591444],\n",
       "       [5.7521844],\n",
       "       [6.4899554],\n",
       "       [4.7369957],\n",
       "       [4.766096 ],\n",
       "       [5.441344 ],\n",
       "       [5.1819243],\n",
       "       [5.484402 ],\n",
       "       [5.706887 ],\n",
       "       [5.1333833],\n",
       "       [4.7382064],\n",
       "       [5.9706235],\n",
       "       [5.7254677],\n",
       "       [5.6146827],\n",
       "       [5.719725 ],\n",
       "       [6.1053557],\n",
       "       [5.6161623],\n",
       "       [4.4237304],\n",
       "       [5.504545 ],\n",
       "       [4.787132 ],\n",
       "       [5.1384296],\n",
       "       [5.903147 ],\n",
       "       [4.8986144],\n",
       "       [4.725308 ],\n",
       "       [5.0407505],\n",
       "       [6.276392 ],\n",
       "       [5.170927 ],\n",
       "       [4.8958907],\n",
       "       [6.4005723],\n",
       "       [5.501428 ],\n",
       "       [5.597109 ],\n",
       "       [4.8464484],\n",
       "       [5.692264 ],\n",
       "       [5.2540584],\n",
       "       [5.232612 ],\n",
       "       [5.0062118],\n",
       "       [5.232612 ],\n",
       "       [5.394155 ],\n",
       "       [4.624622 ],\n",
       "       [5.6832347],\n",
       "       [5.055785 ],\n",
       "       [5.7996078],\n",
       "       [5.846517 ],\n",
       "       [5.7685666],\n",
       "       [5.64868  ],\n",
       "       [5.4634247],\n",
       "       [5.360826 ],\n",
       "       [5.1985984],\n",
       "       [5.2677727],\n",
       "       [5.0447783],\n",
       "       [5.147218 ],\n",
       "       [5.6843686],\n",
       "       [4.9225736],\n",
       "       [5.0167074],\n",
       "       [5.0056767],\n",
       "       [5.511379 ],\n",
       "       [5.3297772],\n",
       "       [6.1020827],\n",
       "       [5.6124434],\n",
       "       [5.5439296],\n",
       "       [5.083016 ],\n",
       "       [5.597283 ],\n",
       "       [5.82429  ],\n",
       "       [5.166511 ],\n",
       "       [4.695339 ],\n",
       "       [5.2710133],\n",
       "       [4.725308 ],\n",
       "       [4.6922307],\n",
       "       [5.879892 ],\n",
       "       [5.614671 ],\n",
       "       [6.254517 ],\n",
       "       [5.461175 ],\n",
       "       [5.7709794],\n",
       "       [4.9397373],\n",
       "       [5.333873 ],\n",
       "       [5.2779665],\n",
       "       [5.7823534],\n",
       "       [5.7349024],\n",
       "       [4.4909616],\n",
       "       [5.393449 ],\n",
       "       [5.2010407],\n",
       "       [5.4072475],\n",
       "       [6.701676 ],\n",
       "       [5.9277635],\n",
       "       [5.3095956],\n",
       "       [5.915984 ],\n",
       "       [4.864799 ],\n",
       "       [5.7386346],\n",
       "       [6.208828 ],\n",
       "       [5.9531026],\n",
       "       [5.0597014],\n",
       "       [5.077593 ],\n",
       "       [4.9634914],\n",
       "       [6.424496 ],\n",
       "       [5.0758786],\n",
       "       [4.877917 ],\n",
       "       [6.6732016],\n",
       "       [4.9510503],\n",
       "       [5.067312 ],\n",
       "       [5.182765 ],\n",
       "       [5.700415 ],\n",
       "       [5.9655633],\n",
       "       [4.7872996],\n",
       "       [5.027084 ],\n",
       "       [5.113235 ],\n",
       "       [5.3466554],\n",
       "       [5.00225  ],\n",
       "       [4.8016925],\n",
       "       [4.9180555],\n",
       "       [5.6077113],\n",
       "       [4.896683 ],\n",
       "       [5.0840664],\n",
       "       [5.5473585],\n",
       "       [5.1384296],\n",
       "       [4.9634914]], dtype=float32)"
      ]
     },
     "execution_count": 44,
     "metadata": {},
     "output_type": "execute_result"
    }
   ],
   "source": [
    "y_pred"
   ]
  },
  {
   "cell_type": "code",
   "execution_count": 45,
   "metadata": {},
   "outputs": [
    {
     "data": {
      "text/plain": [
       "6.7872486"
      ]
     },
     "execution_count": 45,
     "metadata": {},
     "output_type": "execute_result"
    }
   ],
   "source": [
    "y_pred.max()"
   ]
  },
  {
   "cell_type": "code",
   "execution_count": 46,
   "metadata": {},
   "outputs": [
    {
     "data": {
      "text/plain": [
       "8"
      ]
     },
     "execution_count": 46,
     "metadata": {},
     "output_type": "execute_result"
    }
   ],
   "source": [
    "data['quality'].max()"
   ]
  },
  {
   "cell_type": "code",
   "execution_count": 49,
   "metadata": {},
   "outputs": [
    {
     "data": {
      "text/plain": [
       "8"
      ]
     },
     "execution_count": 49,
     "metadata": {},
     "output_type": "execute_result"
    }
   ],
   "source": [
    "y_train.max()"
   ]
  },
  {
   "cell_type": "code",
   "execution_count": null,
   "metadata": {},
   "outputs": [],
   "source": []
  }
 ],
 "metadata": {
  "kernelspec": {
   "display_name": "Python 3",
   "language": "python",
   "name": "python3"
  },
  "language_info": {
   "codemirror_mode": {
    "name": "ipython",
    "version": 3
   },
   "file_extension": ".py",
   "mimetype": "text/x-python",
   "name": "python",
   "nbconvert_exporter": "python",
   "pygments_lexer": "ipython3",
   "version": "3.8.3"
  }
 },
 "nbformat": 4,
 "nbformat_minor": 4
}
