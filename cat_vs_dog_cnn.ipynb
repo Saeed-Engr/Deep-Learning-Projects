{
 "cells": [
  {
   "cell_type": "code",
   "execution_count": 1,
   "metadata": {},
   "outputs": [],
   "source": [
    "import os, shutil\n",
    "original_dataset_dir = 'data'"
   ]
  },
  {
   "cell_type": "code",
   "execution_count": 3,
   "metadata": {},
   "outputs": [],
   "source": [
    "base_dir = 'cats_and_dogs_small'\n",
    "os.mkdir(base_dir)\n",
    "train_dir = os.path.join(base_dir, 'train')\n",
    "os.mkdir(train_dir)\n",
    "validation_dir = os.path.join(base_dir, 'validation')\n",
    "os.mkdir(validation_dir)\n",
    "test_dir = os.path.join(base_dir, 'test')\n",
    "os.mkdir(test_dir)"
   ]
  },
  {
   "cell_type": "code",
   "execution_count": 4,
   "metadata": {},
   "outputs": [],
   "source": [
    "train_cats_dir = os.path.join(train_dir, 'cats')\n",
    "os.mkdir(train_cats_dir)"
   ]
  },
  {
   "cell_type": "code",
   "execution_count": 5,
   "metadata": {},
   "outputs": [],
   "source": [
    "train_dogs_dir = os.path.join(train_dir, 'dogs')\n",
    "os.mkdir(train_dogs_dir)"
   ]
  },
  {
   "cell_type": "code",
   "execution_count": 6,
   "metadata": {},
   "outputs": [],
   "source": [
    "validation_cats_dir = os.path.join(validation_dir, 'cats')\n",
    "os.mkdir(validation_cats_dir)"
   ]
  },
  {
   "cell_type": "code",
   "execution_count": 7,
   "metadata": {},
   "outputs": [],
   "source": [
    "validation_dogs_dir = os.path.join(validation_dir, 'dogs')\n",
    "os.mkdir(validation_dogs_dir)"
   ]
  },
  {
   "cell_type": "code",
   "execution_count": 8,
   "metadata": {},
   "outputs": [],
   "source": [
    "test_cats_dir = os.path.join(test_dir, 'cats')\n",
    "os.mkdir(test_cats_dir)"
   ]
  },
  {
   "cell_type": "code",
   "execution_count": 9,
   "metadata": {},
   "outputs": [],
   "source": [
    "test_dogs_dir = os.path.join(test_dir, 'dogs')\n",
    "os.mkdir(test_dogs_dir)"
   ]
  },
  {
   "cell_type": "code",
   "execution_count": 11,
   "metadata": {},
   "outputs": [],
   "source": [
    "fnames = ['cat.{}.jpg'.format(i) for i in range(1,2000)]\n",
    "for fname in fnames:\n",
    "    src = os.path.join(original_dataset_dir, fname)\n",
    "    dst = os.path.join(train_cats_dir, fname)\n",
    "    shutil.copyfile(src, dst)"
   ]
  },
  {
   "cell_type": "code",
   "execution_count": 12,
   "metadata": {},
   "outputs": [],
   "source": [
    "fnames = ['cat.{}.jpg'.format(i) for i in range(2000, 3000)]\n",
    "for fname in fnames:\n",
    "    src = os.path.join(original_dataset_dir, fname)\n",
    "    dst = os.path.join(validation_cats_dir, fname)\n",
    "    shutil.copyfile(src, dst)"
   ]
  },
  {
   "cell_type": "code",
   "execution_count": 13,
   "metadata": {},
   "outputs": [],
   "source": [
    "fnames = ['cat.{}.jpg'.format(i) for i in range(3000, 4000)]\n",
    "for fname in fnames:\n",
    "    src = os.path.join(original_dataset_dir, fname)\n",
    "    dst = os.path.join(test_cats_dir, fname)\n",
    "    shutil.copyfile(src, dst)"
   ]
  },
  {
   "cell_type": "code",
   "execution_count": 14,
   "metadata": {},
   "outputs": [],
   "source": [
    "fnames = ['dog.{}.jpg'.format(i) for i in range(1,2000)]\n",
    "for fname in fnames:\n",
    "    src = os.path.join(original_dataset_dir, fname)\n",
    "    dst = os.path.join(train_dogs_dir, fname)\n",
    "    shutil.copyfile(src, dst)"
   ]
  },
  {
   "cell_type": "code",
   "execution_count": 15,
   "metadata": {},
   "outputs": [],
   "source": [
    "fnames = ['dog.{}.jpg'.format(i) for i in range(2000, 3000)]\n",
    "for fname in fnames:\n",
    "    src = os.path.join(original_dataset_dir, fname)\n",
    "    dst = os.path.join(validation_dogs_dir, fname)\n",
    "    shutil.copyfile(src, dst)"
   ]
  },
  {
   "cell_type": "code",
   "execution_count": 16,
   "metadata": {},
   "outputs": [],
   "source": [
    "fnames = ['dog.{}.jpg'.format(i) for i in range(3000, 4000)]\n",
    "for fname in fnames:\n",
    "    src = os.path.join(original_dataset_dir, fname)\n",
    "    dst = os.path.join(test_dogs_dir, fname)\n",
    "    shutil.copyfile(src, dst)"
   ]
  },
  {
   "cell_type": "code",
   "execution_count": null,
   "metadata": {},
   "outputs": [],
   "source": []
  },
  {
   "cell_type": "code",
   "execution_count": 17,
   "metadata": {},
   "outputs": [],
   "source": [
    "from tensorflow.keras import layers\n",
    "from tensorflow.keras import models\n",
    "model = models.Sequential()\n",
    "model.add(layers.Conv2D(32, (3, 3), activation='relu',\n",
    "input_shape=(150, 150, 3)))\n",
    "model.add(layers.MaxPooling2D((2, 2)))\n",
    "model.add(layers.Conv2D(64, (3, 3), activation='relu'))\n",
    "model.add(layers.MaxPooling2D((2, 2)))\n",
    "model.add(layers.Conv2D(128, (3, 3), activation='relu'))\n",
    "model.add(layers.MaxPooling2D((2, 2)))\n",
    "model.add(layers.Conv2D(128, (3, 3), activation='relu'))\n",
    "model.add(layers.MaxPooling2D((2, 2)))\n",
    "model.add(layers.Flatten())\n",
    "model.add(layers.Dense(512, activation='relu'))\n",
    "model.add(layers.Dense(1, activation='sigmoid'))"
   ]
  },
  {
   "cell_type": "code",
   "execution_count": 18,
   "metadata": {},
   "outputs": [],
   "source": [
    "from tensorflow.keras import optimizers\n",
    "model.compile(loss='binary_crossentropy',\n",
    "optimizer=optimizers.RMSprop(lr=1e-4),\n",
    "metrics=['acc'])"
   ]
  },
  {
   "cell_type": "code",
   "execution_count": 19,
   "metadata": {},
   "outputs": [],
   "source": [
    "from tensorflow.keras.preprocessing.image import ImageDataGenerator\n",
    "train_datagen = ImageDataGenerator(rescale=1./255)\n",
    "test_datagen = ImageDataGenerator(rescale=1./255)"
   ]
  },
  {
   "cell_type": "code",
   "execution_count": 20,
   "metadata": {},
   "outputs": [
    {
     "name": "stdout",
     "output_type": "stream",
     "text": [
      "Found 3998 images belonging to 2 classes.\n"
     ]
    }
   ],
   "source": [
    "train_generator = train_datagen.flow_from_directory(\n",
    "train_dir,\n",
    "target_size=(150, 150),batch_size=20,class_mode='binary')"
   ]
  },
  {
   "cell_type": "code",
   "execution_count": 21,
   "metadata": {},
   "outputs": [
    {
     "name": "stdout",
     "output_type": "stream",
     "text": [
      "Found 2000 images belonging to 2 classes.\n"
     ]
    }
   ],
   "source": [
    "validation_generator = test_datagen.flow_from_directory(\n",
    "validation_dir,target_size=(150, 150),\n",
    "batch_size=20,\n",
    "class_mode='binary')"
   ]
  },
  {
   "cell_type": "code",
   "execution_count": 22,
   "metadata": {},
   "outputs": [
    {
     "name": "stdout",
     "output_type": "stream",
     "text": [
      "WARNING:tensorflow:From <ipython-input-22-f61a1535c537>:1: Model.fit_generator (from tensorflow.python.keras.engine.training) is deprecated and will be removed in a future version.\n",
      "Instructions for updating:\n",
      "Please use Model.fit, which supports generators.\n",
      "Epoch 1/30\n",
      "100/100 [==============================] - 647s 6s/step - loss: 0.6890 - acc: 0.5120 - val_loss: 0.6652 - val_acc: 0.6280\n",
      "Epoch 2/30\n",
      "100/100 [==============================] - 555s 6s/step - loss: 0.6724 - acc: 0.5776 - val_loss: 0.6478 - val_acc: 0.6890\n",
      "Epoch 3/30\n",
      "100/100 [==============================] - 461s 5s/step - loss: 0.6349 - acc: 0.6395 - val_loss: 0.6641 - val_acc: 0.5770\n",
      "Epoch 4/30\n",
      "100/100 [==============================] - 340s 3s/step - loss: 0.6317 - acc: 0.6446 - val_loss: 0.5896 - val_acc: 0.7100\n",
      "Epoch 5/30\n",
      "100/100 [==============================] - 342s 3s/step - loss: 0.5881 - acc: 0.6950 - val_loss: 0.5906 - val_acc: 0.6790\n",
      "Epoch 6/30\n",
      "100/100 [==============================] - 352s 4s/step - loss: 0.5811 - acc: 0.6897 - val_loss: 0.5621 - val_acc: 0.7100\n",
      "Epoch 7/30\n",
      "100/100 [==============================] - 336s 3s/step - loss: 0.5630 - acc: 0.7085 - val_loss: 0.5706 - val_acc: 0.7000\n",
      "Epoch 8/30\n",
      "100/100 [==============================] - 334s 3s/step - loss: 0.5577 - acc: 0.7132 - val_loss: 0.5443 - val_acc: 0.7240\n",
      "Epoch 9/30\n",
      "100/100 [==============================] - 336s 3s/step - loss: 0.5376 - acc: 0.7260 - val_loss: 0.5288 - val_acc: 0.7360\n",
      "Epoch 10/30\n",
      "100/100 [==============================] - 333s 3s/step - loss: 0.5303 - acc: 0.7357 - val_loss: 0.5576 - val_acc: 0.6950\n",
      "Epoch 11/30\n",
      "100/100 [==============================] - 351s 4s/step - loss: 0.5133 - acc: 0.7420 - val_loss: 0.5206 - val_acc: 0.7340\n",
      "Epoch 12/30\n",
      "100/100 [==============================] - 365s 4s/step - loss: 0.5239 - acc: 0.7392 - val_loss: 0.5563 - val_acc: 0.7000\n",
      "Epoch 13/30\n",
      "100/100 [==============================] - 342s 3s/step - loss: 0.5073 - acc: 0.7530 - val_loss: 0.5373 - val_acc: 0.7230\n",
      "Epoch 14/30\n",
      "100/100 [==============================] - 342s 3s/step - loss: 0.4849 - acc: 0.7668 - val_loss: 0.5038 - val_acc: 0.7460\n",
      "Epoch 15/30\n",
      "100/100 [==============================] - 333s 3s/step - loss: 0.4876 - acc: 0.7500 - val_loss: 0.5284 - val_acc: 0.7290\n",
      "Epoch 16/30\n",
      "100/100 [==============================] - 395s 4s/step - loss: 0.4606 - acc: 0.7848 - val_loss: 0.5030 - val_acc: 0.7540\n",
      "Epoch 17/30\n",
      "100/100 [==============================] - 311s 3s/step - loss: 0.4671 - acc: 0.7715 - val_loss: 0.5883 - val_acc: 0.6760\n",
      "Epoch 18/30\n",
      "100/100 [==============================] - 338s 3s/step - loss: 0.4486 - acc: 0.7943 - val_loss: 0.4818 - val_acc: 0.7690\n",
      "Epoch 19/30\n",
      "100/100 [==============================] - 343s 3s/step - loss: 0.4585 - acc: 0.7870 - val_loss: 0.5489 - val_acc: 0.7300\n",
      "Epoch 20/30\n",
      "100/100 [==============================] - 338s 3s/step - loss: 0.4367 - acc: 0.8028 - val_loss: 0.4644 - val_acc: 0.7710\n",
      "Epoch 21/30\n",
      "100/100 [==============================] - 326s 3s/step - loss: 0.4308 - acc: 0.7995 - val_loss: 0.5131 - val_acc: 0.7370\n",
      "Epoch 22/30\n",
      "100/100 [==============================] - 358s 4s/step - loss: 0.4233 - acc: 0.8128 - val_loss: 0.4874 - val_acc: 0.7750\n",
      "Epoch 23/30\n",
      "100/100 [==============================] - 336s 3s/step - loss: 0.4076 - acc: 0.8160 - val_loss: 0.5186 - val_acc: 0.7430\n",
      "Epoch 24/30\n",
      "100/100 [==============================] - 353s 4s/step - loss: 0.4251 - acc: 0.8053 - val_loss: 0.4755 - val_acc: 0.7720\n",
      "Epoch 25/30\n",
      "100/100 [==============================] - 361s 4s/step - loss: 0.3920 - acc: 0.8265 - val_loss: 0.4970 - val_acc: 0.7540\n",
      "Epoch 26/30\n",
      "100/100 [==============================] - 373s 4s/step - loss: 0.4083 - acc: 0.8128 - val_loss: 0.4791 - val_acc: 0.7770\n",
      "Epoch 27/30\n",
      "100/100 [==============================] - 374s 4s/step - loss: 0.3780 - acc: 0.8275 - val_loss: 0.5451 - val_acc: 0.7350\n",
      "Epoch 28/30\n",
      "100/100 [==============================] - 361s 4s/step - loss: 0.3985 - acc: 0.8198 - val_loss: 0.5360 - val_acc: 0.7490\n",
      "Epoch 29/30\n",
      "100/100 [==============================] - 374s 4s/step - loss: 0.3683 - acc: 0.8340 - val_loss: 0.5009 - val_acc: 0.7750\n",
      "Epoch 30/30\n",
      "100/100 [==============================] - 363s 4s/step - loss: 0.3780 - acc: 0.8303 - val_loss: 0.4576 - val_acc: 0.7880\n"
     ]
    }
   ],
   "source": [
    "history = model.fit_generator(\n",
    "train_generator,\n",
    "steps_per_epoch=100,\n",
    "epochs=30,\n",
    "validation_data=validation_generator,\n",
    "validation_steps=50)"
   ]
  },
  {
   "cell_type": "code",
   "execution_count": 23,
   "metadata": {},
   "outputs": [],
   "source": [
    "model.save('cats_and_dogs_small_1.h5')"
   ]
  },
  {
   "cell_type": "code",
   "execution_count": null,
   "metadata": {},
   "outputs": [],
   "source": []
  }
 ],
 "metadata": {
  "kernelspec": {
   "display_name": "Python 3",
   "language": "python",
   "name": "python3"
  },
  "language_info": {
   "codemirror_mode": {
    "name": "ipython",
    "version": 3
   },
   "file_extension": ".py",
   "mimetype": "text/x-python",
   "name": "python",
   "nbconvert_exporter": "python",
   "pygments_lexer": "ipython3",
   "version": "3.8.3"
  }
 },
 "nbformat": 4,
 "nbformat_minor": 4
}
