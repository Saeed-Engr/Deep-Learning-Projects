{
 "cells": [
  {
   "cell_type": "code",
   "execution_count": 2,
   "metadata": {},
   "outputs": [],
   "source": [
    "from tensorflow.keras import layers\n",
    "from tensorflow.keras import models"
   ]
  },
  {
   "cell_type": "code",
   "execution_count": 3,
   "metadata": {},
   "outputs": [],
   "source": [
    "model = models.Sequential()"
   ]
  },
  {
   "cell_type": "code",
   "execution_count": 4,
   "metadata": {},
   "outputs": [],
   "source": [
    "model.add(layers.Conv2D(32, (3, 3), activation='relu', input_shape=(150, 150, 3)))"
   ]
  },
  {
   "cell_type": "code",
   "execution_count": 5,
   "metadata": {},
   "outputs": [],
   "source": [
    "model.add(layers.MaxPooling2D((2, 2)))\n",
    "model.add(layers.Conv2D(64, (3, 3), activation='relu'))\n",
    "model.add(layers.MaxPooling2D((2, 2)))\n",
    "model.add(layers.Conv2D(128, (3, 3), activation='relu'))\n",
    "model.add(layers.MaxPooling2D((2, 2)))\n",
    "model.add(layers.Conv2D(128, (3, 3), activation='relu'))\n",
    "model.add(layers.MaxPooling2D((2, 2)))"
   ]
  },
  {
   "cell_type": "code",
   "execution_count": 6,
   "metadata": {},
   "outputs": [],
   "source": [
    "model.add(layers.Flatten())\n",
    "model.add(layers.Dense(512, activation='relu'))\n",
    "model.add(layers.Dense(1, activation='sigmoid'))"
   ]
  },
  {
   "cell_type": "code",
   "execution_count": 7,
   "metadata": {},
   "outputs": [
    {
     "name": "stdout",
     "output_type": "stream",
     "text": [
      "Model: \"sequential\"\n",
      "_________________________________________________________________\n",
      "Layer (type)                 Output Shape              Param #   \n",
      "=================================================================\n",
      "conv2d (Conv2D)              (None, 148, 148, 32)      896       \n",
      "_________________________________________________________________\n",
      "max_pooling2d (MaxPooling2D) (None, 74, 74, 32)        0         \n",
      "_________________________________________________________________\n",
      "conv2d_1 (Conv2D)            (None, 72, 72, 64)        18496     \n",
      "_________________________________________________________________\n",
      "max_pooling2d_1 (MaxPooling2 (None, 36, 36, 64)        0         \n",
      "_________________________________________________________________\n",
      "conv2d_2 (Conv2D)            (None, 34, 34, 128)       73856     \n",
      "_________________________________________________________________\n",
      "max_pooling2d_2 (MaxPooling2 (None, 17, 17, 128)       0         \n",
      "_________________________________________________________________\n",
      "conv2d_3 (Conv2D)            (None, 15, 15, 128)       147584    \n",
      "_________________________________________________________________\n",
      "max_pooling2d_3 (MaxPooling2 (None, 7, 7, 128)         0         \n",
      "_________________________________________________________________\n",
      "flatten (Flatten)            (None, 6272)              0         \n",
      "_________________________________________________________________\n",
      "dense (Dense)                (None, 512)               3211776   \n",
      "_________________________________________________________________\n",
      "dense_1 (Dense)              (None, 1)                 513       \n",
      "=================================================================\n",
      "Total params: 3,453,121\n",
      "Trainable params: 3,453,121\n",
      "Non-trainable params: 0\n",
      "_________________________________________________________________\n"
     ]
    }
   ],
   "source": [
    "model.summary()"
   ]
  },
  {
   "cell_type": "code",
   "execution_count": 8,
   "metadata": {},
   "outputs": [],
   "source": [
    "from tensorflow.keras import optimizers"
   ]
  },
  {
   "cell_type": "code",
   "execution_count": 9,
   "metadata": {},
   "outputs": [],
   "source": [
    "model.compile(loss='binary_crossentropy', optimizer=optimizers.RMSprop(lr=1e-4), metrics=['acc'])"
   ]
  },
  {
   "cell_type": "code",
   "execution_count": 10,
   "metadata": {},
   "outputs": [],
   "source": [
    "from tensorflow.keras.preprocessing.image import ImageDataGenerator"
   ]
  },
  {
   "cell_type": "code",
   "execution_count": 11,
   "metadata": {},
   "outputs": [],
   "source": [
    "train_datagen = ImageDataGenerator(rescale=1./255)\n",
    "test_datagen = ImageDataGenerator(rescale=1./255)"
   ]
  },
  {
   "cell_type": "code",
   "execution_count": 12,
   "metadata": {},
   "outputs": [],
   "source": [
    "train_dir = 'train'\n",
    "test_dir = 'test'"
   ]
  },
  {
   "cell_type": "code",
   "execution_count": 13,
   "metadata": {},
   "outputs": [
    {
     "name": "stdout",
     "output_type": "stream",
     "text": [
      "Found 69 images belonging to 2 classes.\n"
     ]
    }
   ],
   "source": [
    "train_generator = train_datagen.flow_from_directory(train_dir,\n",
    "target_size=(150, 150),\n",
    "batch_size=20,\n",
    "class_mode='binary')"
   ]
  },
  {
   "cell_type": "code",
   "execution_count": 14,
   "metadata": {},
   "outputs": [
    {
     "data": {
      "text/plain": [
       "{'apple': 0, 'orange': 1}"
      ]
     },
     "execution_count": 14,
     "metadata": {},
     "output_type": "execute_result"
    }
   ],
   "source": [
    "train_generator.class_indices"
   ]
  },
  {
   "cell_type": "code",
   "execution_count": 15,
   "metadata": {},
   "outputs": [
    {
     "name": "stdout",
     "output_type": "stream",
     "text": [
      "WARNING:tensorflow:From <ipython-input-15-f1f0e1359da9>:1: Model.fit_generator (from tensorflow.python.keras.engine.training) is deprecated and will be removed in a future version.\n",
      "Instructions for updating:\n",
      "Please use Model.fit, which supports generators.\n",
      "Epoch 1/10\n",
      "64/64 [==============================] - 150s 2s/step - loss: 0.3941 - acc: 0.8333\n",
      "Epoch 2/10\n",
      "64/64 [==============================] - 151s 2s/step - loss: 0.1244 - acc: 0.9529\n",
      "Epoch 3/10\n",
      "64/64 [==============================] - 150s 2s/step - loss: 0.0483 - acc: 0.9873\n",
      "Epoch 4/10\n",
      "64/64 [==============================] - 151s 2s/step - loss: 0.0437 - acc: 0.9918\n",
      "Epoch 5/10\n",
      "64/64 [==============================] - 151s 2s/step - loss: 0.0261 - acc: 0.9928\n",
      "Epoch 6/10\n",
      "64/64 [==============================] - 151s 2s/step - loss: 0.0268 - acc: 0.9937\n",
      "Epoch 7/10\n",
      "64/64 [==============================] - 151s 2s/step - loss: 6.4255e-04 - acc: 1.0000\n",
      "Epoch 8/10\n",
      "64/64 [==============================] - 162s 3s/step - loss: 0.0738 - acc: 0.9918\n",
      "Epoch 9/10\n",
      "64/64 [==============================] - 151s 2s/step - loss: 1.6040e-04 - acc: 1.0000\n",
      "Epoch 10/10\n",
      "64/64 [==============================] - 155s 2s/step - loss: 0.0188 - acc: 0.9937\n"
     ]
    }
   ],
   "source": [
    "history = model.fit_generator(\n",
    "train_generator,\n",
    "steps_per_epoch=64,\n",
    "epochs=10)"
   ]
  },
  {
   "cell_type": "code",
   "execution_count": 18,
   "metadata": {},
   "outputs": [
    {
     "name": "stdout",
     "output_type": "stream",
     "text": [
      "Found 34 images belonging to 2 classes.\n"
     ]
    }
   ],
   "source": [
    "test_data = test_datagen.flow_from_directory(\n",
    "    test_dir,\n",
    "    target_size=(150,150),\n",
    "    batch_size=20,\n",
    "    class_mode='binary'\n",
    ")"
   ]
  },
  {
   "cell_type": "code",
   "execution_count": 21,
   "metadata": {},
   "outputs": [
    {
     "name": "stdout",
     "output_type": "stream",
     "text": [
      "Epoch 1/10\n",
      "20/20 [==============================] - 113s 6s/step - loss: 8.6859e-05 - acc: 1.0000 - val_loss: 0.3895 - val_acc: 0.9141\n",
      "Epoch 2/10\n",
      "20/20 [==============================] - 114s 6s/step - loss: 6.4351e-05 - acc: 1.0000 - val_loss: 0.4138 - val_acc: 0.9118\n",
      "Epoch 3/10\n",
      "20/20 [==============================] - 112s 6s/step - loss: 4.7086e-05 - acc: 1.0000 - val_loss: 0.6270 - val_acc: 0.8847\n",
      "Epoch 4/10\n",
      "20/20 [==============================] - 111s 6s/step - loss: 0.1626 - acc: 0.9623 - val_loss: 0.7150 - val_acc: 0.8824\n",
      "Epoch 5/10\n",
      "20/20 [==============================] - 111s 6s/step - loss: 7.3323e-04 - acc: 1.0000 - val_loss: 0.5410 - val_acc: 0.9118\n",
      "Epoch 6/10\n",
      "20/20 [==============================] - 109s 5s/step - loss: 2.1124e-04 - acc: 1.0000 - val_loss: 0.4607 - val_acc: 0.9118\n",
      "Epoch 7/10\n",
      "20/20 [==============================] - 110s 5s/step - loss: 9.7378e-05 - acc: 1.0000 - val_loss: 0.4164 - val_acc: 0.9129\n",
      "Epoch 8/10\n",
      "20/20 [==============================] - 109s 5s/step - loss: 4.8156e-05 - acc: 1.0000 - val_loss: 0.4125 - val_acc: 0.9118\n",
      "Epoch 9/10\n",
      "20/20 [==============================] - 109s 5s/step - loss: 2.5497e-05 - acc: 1.0000 - val_loss: 0.4213 - val_acc: 0.9129\n",
      "Epoch 10/10\n",
      "20/20 [==============================] - 110s 5s/step - loss: 1.5700e-05 - acc: 1.0000 - val_loss: 0.4396 - val_acc: 0.9118\n"
     ]
    }
   ],
   "source": [
    "history = model.fit_generator(\n",
    "train_generator,\n",
    "steps_per_epoch=20,\n",
    "epochs=10,\n",
    "validation_data=test_data,\n",
    "validation_steps=50)"
   ]
  },
  {
   "cell_type": "code",
   "execution_count": 23,
   "metadata": {},
   "outputs": [],
   "source": [
    "img = image.load_img(\"test/apple/apple.jpg\", target_size=(150,150))\n",
    "x=image.img_to_array(img) / 255\n",
    "resized_img_np = np.expand_dims(x,axis=0)\n",
    "prediction = model.predict(resized_img_np)"
   ]
  },
  {
   "cell_type": "code",
   "execution_count": 24,
   "metadata": {},
   "outputs": [
    {
     "data": {
      "text/plain": [
       "array([[0.01690916]], dtype=float32)"
      ]
     },
     "execution_count": 24,
     "metadata": {},
     "output_type": "execute_result"
    }
   ],
   "source": [
    "prediction"
   ]
  },
  {
   "cell_type": "code",
   "execution_count": null,
   "metadata": {},
   "outputs": [],
   "source": []
  }
 ],
 "metadata": {
  "kernelspec": {
   "display_name": "Python 3",
   "language": "python",
   "name": "python3"
  },
  "language_info": {
   "codemirror_mode": {
    "name": "ipython",
    "version": 3
   },
   "file_extension": ".py",
   "mimetype": "text/x-python",
   "name": "python",
   "nbconvert_exporter": "python",
   "pygments_lexer": "ipython3",
   "version": "3.8.3"
  }
 },
 "nbformat": 4,
 "nbformat_minor": 4
}
