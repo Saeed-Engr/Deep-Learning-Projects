{
  "nbformat": 4,
  "nbformat_minor": 0,
  "metadata": {
    "colab": {
      "name": " character-level LSTM text generation 8.1.ipynb",
      "provenance": []
    },
    "kernelspec": {
      "name": "python3",
      "display_name": "Python 3"
    },
    "language_info": {
      "name": "python"
    },
    "accelerator": "GPU"
  },
  "cells": [
    {
      "cell_type": "code",
      "metadata": {
        "id": "jvFNogqSn6Kh"
      },
      "source": [
        "\n",
        "import numpy as np\n",
        "def reweight_distribution(original_distribution, temperature=0.5):\n",
        "  distribution = np.log(original_distribution) / temperature\n",
        "  distribution = np.exp(distribution)\n",
        "  return distribution / np.sum(distribution)"
      ],
      "execution_count": 1,
      "outputs": []
    },
    {
      "cell_type": "code",
      "metadata": {
        "colab": {
          "base_uri": "https://localhost:8080/"
        },
        "id": "Y4UREr6FD_Uy",
        "outputId": "9dca7b4f-ec73-429d-9786-95507f40549b"
      },
      "source": [
        "import keras\n",
        "import numpy as np\n",
        "path = keras.utils.get_file('nietzsche.txt',\n",
        "                            origin='https://s3.amazonaws.com/text-datasets/nietzsche.txt')\n",
        "\n",
        "text = open(path).read().lower()\n",
        "print('Corpus length:', len(text))"
      ],
      "execution_count": 2,
      "outputs": [
        {
          "output_type": "stream",
          "text": [
            "Downloading data from https://s3.amazonaws.com/text-datasets/nietzsche.txt\n",
            "606208/600901 [==============================] - 0s 0us/step\n",
            "Corpus length: 600893\n"
          ],
          "name": "stdout"
        }
      ]
    },
    {
      "cell_type": "code",
      "metadata": {
        "id": "DtfykzmhoAVq"
      },
      "source": [
        "text2 = '''\n",
        "Success is perhaps the most desired feeling that all of us want to experience in the pursuit of our goals and also in day to day life. Apparently, every individual has his or her own definition of success.\n",
        "None can deny that the world blindly respects and trusts wealthy people. Money is the prime dynamic force that drives this world. The sooner we acknowledge and appreciate this fact the better. Academic success is a prime concern for all in the initial part of life, especially in the school days. For those who continue perusing studies, academic success is the epitome of everything. It is mostly observed that success in personal life becomes a tough task for those who have all the riches. Here is where the common people feel successful to have a happy personal life.\n",
        "One should not regret their decisions taken in the past and must refrain dwelling in the past. We must give deep thought before taking any decisions and uttering words from the mouth. For making a successful decision one must ask questions to oneself like: What Do I Need To Do? What Will Be The Outcome? Will It Be Worth Doing? One must keep the emotions for success and failures intact and should not showcase it to others. Successful people never wait for applause or acknowledgement of their work as they eventually get it. To become successful one must keep friends close and enemies closer. A successful person never demeans the weak and never underestimates anyone.\n",
        "To become successful one has to understand what is important in that instant, recognize and work on the weaknesses, take criticism and hold on to the strengths. From a broader perspective Success defines the contentment, peace of mind and sheer happiness that is achieved. One should remember that only perseverance can lead the path to success.\n",
        "Real success is something we should all strive to attain. Real success can simply be said to be achieving a higher position or very high position in our chosen field or area; it can be politics or business or even education. In the world we live in today, we have equated success to riches, prosperity, fortunes, cars, houses and so many mundane things. We believe that once a person has enough money to be able to afford what he or she wants, the person is successful. This is a total and complete misconception that will be discussed here.While it is important to note that having money is a part of being successful and you can classify as rich person as being successful, money is not all that success is about and we have a lot of people around us that are seemingly rich but still count themselves as not successful. In fact, sometimes we see wealthy people and conclude that they aren’t successful. If this is true then we can safely conclude that success is deeper that money or other superficial and physical things can we might acquire or own. Money is very important to success in life but it is not a necessity and neither is it the only key to success in life.Real success is way beyond the physical things we can see, real success is all about the feeling of satisfaction we get when we accomplish a task or do something, it is the happiness we get just by remembering what we have achieved and how we did it, real success has to do with a lot of positive feelings about ourselves and pride in what we have been able to do. As we can see, real success can only be achieved within one’s self and that is why a lot of people who we think are successful still believe they aren’t just because they aren’t happy with what they are doing or they feel they can get so much more out of life. From this, we can see that it is very important to attain true success in life.For one to be successful, the first and most important thing one needs to do is to set goals and objectives. Only through the setting of goals can one really have something to pursue and claim success when we got those things or meet the set goals and target. A very important ingredient in achieving real success is determination. If one is going to get real success, one has to be determined to never give up no matter what the situation might be. Another very important ingredient is hard work as we can’t expect to be successful if we don’t work hard and do all it takes to meet all of our set goals. It is important that we get all the skills that are required for us to be successful in our chosen field.\n",
        "\n",
        "The yardstick of success varies from people to people. The success story of an individual begins from the moment of his/her birth. A human child begins the winning streak by challenging every obstacle from the moment of conception to delivery. So no human is ever a failure, and hence confidently we can say that the very existence of every human in this word bear an element of success.\n",
        "\n",
        "At the primary level, success lies within the parameters of cracking competitive exams and identifying one’s aptitude as to which profession the individual can flourish. On broader terms, a successful life is indeed a happy life reflecting upon how far one has reached. Success is not just related to material success. Nobody has ever become successful within a split of a moment. It is not an arduous task either. Strong determination coupled with hard work is the key to success. The first step to any attempt is to set the goal. There can be short-term goals, and long-term goals and both play a significant role on your road to success. Once the target set, then you have to do strategic planning. It is advisable to set a time frame as well. It will enable you to evaluate yourself on a regular basis. Fixing a time frame can also check into our procrastinating nature.\n",
        "\n",
        "The next most important factor to become successful in life is hard work. It is the key to success. The adage rightly says that ‘no pain, no gain.’ You need to keep in mind that nobody else is going to do what we ought to do. If we put little effort and saw the seeds of hard work and perseverance, then we are sure to reap success and bounty. If you have strong willpower and the fire to ignite your dreams, then nothing can pull you back.\n",
        "\n",
        "You can inspire yourself by being a self-motivator and critic. It opens room for self-improvement and appreciation. As it is said that ‘well begun is half done,’ do not hesitate to sparkle a start. Once we get a push, the rest will fall right in place. Even if we stumble down a couple of times, do not let go of our dreams. Failures are part and parcel of any successful entity. Mistakes are quite common and what needs to do is that we acknowledge them, and bear them in our mind. It ensures that we learn from the mistakes and in turn do not repeat them.\n",
        "\n",
        "Nobody has ever been successful overnight. Patience is yet another golden rule. Just convince your mind that you are strong enough to be successful, though not today, at least some day. Never be disappointed if you lose. Trust in yourself and believe that you will reach there and you deserve to reach there. Your strength and weakness define the person you are, and the realization of it is rather important. Selfless dedication and hard work will definitely get you there.\n",
        "\n",
        "Once you achieve your goals, you can be a strong inspiration to others. There is a warrior in you and never shut it down. You are capable of climbing higher and boom into a fantastic personality. Whatsoever, live a humble life, spread positivity and bear the torch to others’ road to success.\n",
        "\n",
        "Saying education is the road to success is just another way of saying education is very important for all of us in life, without education there would not be a lot of progression in both our individual and collective lives as human. It is very important that we get education in order to get success in life. Most times, people generally limit education to the four walls of a classroom or a school.\n",
        "\n",
        "Education has roots in every area of our existence; education can be said to begin from the home, parents and family members educate and train the children on good characters that they should imbibe and teach them to remove some habits and characters. All of these good characters imbibed by the child through education at home can help the child become very successful in future.\n",
        "\n",
        "We all know that without good characters and morals, it is extremely hard to become successful or make it in life as people would not want to be associated with such person. We are also educated on good communication and interpersonal skills that are very necessary for us to make it and become successful in life.\n",
        "\n",
        "We need to know the true value and worth of education. Education helps to facilitate our skill, knowledge and learning; it gives us a different view of the world and refines our personality, helping us to build very positive attitudes. Education is a totally essential tool in ensuring a bright future.\n",
        "\n",
        "Education can serve as a tool in achieving anything and everything good about life. When we get a high level and degree of education, we earn respect and recognition from our family and the society at large.\n",
        "\n",
        "Education can go a very long way in changing our thoughts and level of reasoning; it broadens our worldview and provides us with the opportunity to get knowledge and technical skills that are highly needed in life. We can improve our knowledge level and skill by watching educational documentaries and programmes on the TV, reading the news and keeping up to date with all of the happenings all over the world, reading a lot of books that can educate us. Education can go a long way to make us into more rational and civilised people. Education guarantees our place among people in the society and can help us achieve all of our dreams and aspirations in life.\n",
        "\n",
        "Success is the goal of all of us and it is our mission. Life can sometimes be full of different opportunities and challenges. Success can only be attained if we have all of the required and needed tools.\n",
        "\n",
        "The most important tool for success is education because without education, we wouldn’t be able to have a wide view of the world and be able to innovate and develop. A lot of youths and children today cite the examples of the successful people that didn’t graduate from school and still went ahead to be successful in life. Mark Zuckerberg, the founder of Facebook famously did not graduate from Harvard university but still went ahead to become very successful. The truth is even though Mark didn’t graduate, he was well educated and wouldn’t have been able to start Facebook if he had no knowledge of coding and wasn’t enrolled in Harvard at all. From him, we can learn that education isn’t limited and can basically be any way of widening our knowledge and improving ourselves. We should never confuse education with getting a diploma or a degree. Only education in or out of school can make us be successful in life and give us the true career we want.\n",
        "\n",
        "Without education, life would be totally meaningless without education. The only path to true success in life is education, every one that has been, is and would be successful in life needs education to do that.\n",
        "\n",
        "The modern world has a way of doing things, that is, modern man has his own particular view on how things should look. That view is completely different from the perspectives upheld by those who came before us, so to say. Like the ancient Greeks were obsessed with performing heroic deeds, or medieval European Christians with martyrdom and upholding saintly principles, we can argue that modern man has an obsession with success. Or more precisely, one aspect of that new worldview is to compare people between each other through the notion of success.\n",
        "\n",
        "In a way, the beginning of the 21st century is preoccupied with the concept of success more than ever before, both individual and collective. That fact can is seen in many aspects of our daily lives, people are not just oppressed with celebrities and successful people they want to live that lifestyle or achieve some sort of greatness. Looking at the current state of things one is encouraged to analyze the situation further and to find the reason behind these phenomena, or at least to offer a new perspective on worldwide trend.There are many ways a person can be successful. Most people will think of celebrities, politicians, artists, entrepreneurs, etc. They will think of someone who is known the world over because of the thing they do, the thing they are good at. That’s all fine, but there are successful people who do not like to be celebrities and there are, most definitely, celebrities who cannot count as successful people.\n",
        "\n",
        "What then makes a successful person? Is it how they do things? Is it what they get in return? Is it in the number of things they can amass in their life? Most of those things can count as some part of our overall image of such a person. But, how can we define it? What is it actually?\n",
        "\n",
        "What I like is simple answers, they are usually correct and the most practical at the same time. Even though not all answers can be simple, this one is. When you look up the word success in any dictionary you will find that it is considered an accomplishment of an aim or a purpose.\n",
        "\n",
        "Surely people were able to accomplish an aim or a pulpous in their lifetimes, even several, before the 21st century. Why is it that this noun has such relevance for the classification of people in this age?\n",
        "\n",
        "If we take a look at history, as I mentioned before, we can see that every age has a different occupation. When we talk about the ancient Egyptians, we do not talk about single individuals who made this country so great we talk about the collective in general. But also, we do not know the names of the people who actually accomplished the construction of the pyramid we remember the person who ordered it and did nothing to build it.\n",
        "\n",
        "Sometimes when I think about all the great artists whose names I do not know, that built humanity in the name of kings, it seems as if it was forbidden for individuals to be famous if they were not born into some sort of noble family.\n",
        "\n",
        "That drastically changed with the return of democracy to Europe and the liberation from the old-world view that separated people into casts, genders, and races. The new perspective born from revolutions gave every man the right to control their destiny and therefore the right to become successful, to achieve one’s dreams and ideals. Celebrating success can be seen as a collective celebration of the boundless human potential to do incredible things. Is it always so shiny? Or is there a dark side to the story?We all know that being successful has its price and the people on the top can often be alone, because of the many sacrifices they had to make to get there. There are also countless examples of people who have achieved success professionally but their health and social lives fail because they cannot handle the strain that comes with maintaining that image of perfection that is expected of them.\n",
        "\n",
        "Then there is also the psychological pressure any person can experience when they become obsessed with succeeding in the things they do. This emotion can cause such discomfort for people that they can freeze in key moments when they should be at the top of their game. Not to mention the depression some people experience when they come in contact with the images of people that exist on social media. There is a lot in being successful that we put under the carpet, or we just consider it as part of the game, something that we should bear. It does not have to be that way.People are made to be in a group and therefore everything they do they should do for each other; however, this fact of human existence has also been a breeding ground for nationalism and other group-oriented ideologies that made the 20th century so dark. The striving to be successful, the best, the most dominant will make people perform incredible and inspiring things but it will also make them give legitimacy to the worst monstrosities. How do we draw the line between the good and bad aspect of wanting individual and collective success?\n",
        "\n",
        "Maybe we should stop looking at success as part of domination and make it part of what makes us authentic as human beings. What do I mean? If we start celebrating everyday people when they express themselves or make something that is fulfilling for them and makes other people grow we will support others to develop this aspect of their humanity and not concentrate on domination and subordination. We should support the celebration of collective endeavors that strive to enhance the human race as a whole and not adore individual examples as if they were the meaning of life.\n",
        "\n",
        "The secret to success is not in money and fame, but in reaching that feeling of fulfillment when you know you have accomplished something that truly matters to you and other people around you. Dreaming big and then having it, it’s not impossible.\n",
        "\n",
        "\n",
        "\n",
        "'''.lower()"
      ],
      "execution_count": 3,
      "outputs": []
    },
    {
      "cell_type": "code",
      "metadata": {
        "colab": {
          "base_uri": "https://localhost:8080/"
        },
        "id": "nDIDGdFBoWVZ",
        "outputId": "f932c4db-d41a-47d1-e62b-fd7d6865f424"
      },
      "source": [
        "text = text+text2\n",
        "print(len(text))"
      ],
      "execution_count": 4,
      "outputs": [
        {
          "output_type": "stream",
          "text": [
            "617771\n"
          ],
          "name": "stdout"
        }
      ]
    },
    {
      "cell_type": "code",
      "metadata": {
        "id": "Ic4ObAbGoYCe"
      },
      "source": [
        "maxlen = 60\n",
        "step = 3\n",
        "sentences = []\n",
        "next_chars = []\n",
        "for i in range(0, len(text) - maxlen, step):\n",
        "  sentences.append(text[i: i + maxlen])\n",
        "  next_chars.append(text[i + maxlen])"
      ],
      "execution_count": 5,
      "outputs": []
    },
    {
      "cell_type": "code",
      "metadata": {
        "colab": {
          "base_uri": "https://localhost:8080/"
        },
        "id": "Ntsa2gUboclF",
        "outputId": "a7c31218-375b-44af-dedb-cc23739a5a68"
      },
      "source": [
        "print('Number of sequences:', len(sentences))\n",
        "chars = sorted(list(set(text)))\n",
        "print('Unique characters:', len(chars))\n",
        "char_indices = dict((char, chars.index(char)) for char in chars)\n",
        "print('Vectorization...')"
      ],
      "execution_count": 6,
      "outputs": [
        {
          "output_type": "stream",
          "text": [
            "Number of sequences: 205904\n",
            "Unique characters: 60\n",
            "Vectorization...\n"
          ],
          "name": "stdout"
        }
      ]
    },
    {
      "cell_type": "code",
      "metadata": {
        "colab": {
          "base_uri": "https://localhost:8080/"
        },
        "id": "SX57NuuJog1R",
        "outputId": "2bbf447c-b635-45c2-ec4a-5cb3cfc9b519"
      },
      "source": [
        "len(next_chars)"
      ],
      "execution_count": 7,
      "outputs": [
        {
          "output_type": "execute_result",
          "data": {
            "text/plain": [
              "205904"
            ]
          },
          "metadata": {
            "tags": []
          },
          "execution_count": 7
        }
      ]
    },
    {
      "cell_type": "code",
      "metadata": {
        "colab": {
          "base_uri": "https://localhost:8080/"
        },
        "id": "TK1MsSWBoo4Z",
        "outputId": "5751844c-7bbc-4860-cc82-131a02553c51"
      },
      "source": [
        "x = np.zeros((len(sentences), maxlen, len(chars)), dtype=np.bool)\n",
        "y = np.zeros((len(sentences), len(chars)), dtype=np.bool)\n",
        "\n",
        "y[2]"
      ],
      "execution_count": 8,
      "outputs": [
        {
          "output_type": "execute_result",
          "data": {
            "text/plain": [
              "array([False, False, False, False, False, False, False, False, False,\n",
              "       False, False, False, False, False, False, False, False, False,\n",
              "       False, False, False, False, False, False, False, False, False,\n",
              "       False, False, False, False, False, False, False, False, False,\n",
              "       False, False, False, False, False, False, False, False, False,\n",
              "       False, False, False, False, False, False, False, False, False,\n",
              "       False, False, False, False, False, False])"
            ]
          },
          "metadata": {
            "tags": []
          },
          "execution_count": 8
        }
      ]
    },
    {
      "cell_type": "code",
      "metadata": {
        "id": "Nf8A62zoKECT"
      },
      "source": [
        "\n",
        "for i, sentence in enumerate(sentences):\n",
        "  for t, char in enumerate(sentence):\n",
        "    x[i, t, char_indices[char]] = 1\n",
        "  y[i, char_indices[next_chars[i]]] = 1"
      ],
      "execution_count": 9,
      "outputs": []
    },
    {
      "cell_type": "code",
      "metadata": {
        "id": "Rt-MCdh5KK2k"
      },
      "source": [
        "import keras\n",
        "from keras import layers\n",
        "model = keras.models.Sequential()\n",
        "model.add(layers.LSTM(128, input_shape=(maxlen, len(chars))))\n",
        "#model.add(layers.LSTM(64))\n",
        "model.add(layers.Dense(len(chars), activation='softmax'))"
      ],
      "execution_count": 10,
      "outputs": []
    },
    {
      "cell_type": "code",
      "metadata": {
        "id": "PdXlOp4eKRxp"
      },
      "source": [
        "optimizer = keras.optimizers.RMSprop(lr=0.01)\n",
        "model.compile(loss='categorical_crossentropy', optimizer=optimizer)"
      ],
      "execution_count": 11,
      "outputs": []
    },
    {
      "cell_type": "code",
      "metadata": {
        "id": "Wg2Qpg6pK6Mv"
      },
      "source": [
        "def sample(preds, temperature=1.0):\n",
        "  preds = np.asarray(preds).astype('float64')\n",
        "  preds = np.log(preds) / temperature\n",
        "  exp_preds = np.exp(preds)\n",
        "  preds = exp_preds / np.sum(exp_preds)\n",
        "  probas = np.random.multinomial(1, preds, 1)\n",
        "  return np.argmax(probas)\n"
      ],
      "execution_count": 12,
      "outputs": []
    },
    {
      "cell_type": "code",
      "metadata": {
        "colab": {
          "base_uri": "https://localhost:8080/"
        },
        "id": "AiD-CmTFMKPt",
        "outputId": "26e84ee1-6f5b-45f5-b41e-e26ee0cac3da"
      },
      "source": [
        "import random\n",
        "import sys\n",
        "\n",
        "\n",
        "model.fit(x, y, batch_size=128, epochs=20)\n",
        "start_index = random.randint(0, len(text) - maxlen - 1)\n",
        "generated_text = text[start_index: start_index + maxlen]\n",
        "print('--- Generating with seed: \"' + generated_text + '\"')"
      ],
      "execution_count": 13,
      "outputs": [
        {
          "output_type": "stream",
          "text": [
            "Epoch 1/20\n",
            "1609/1609 [==============================] - 43s 8ms/step - loss: 2.2531\n",
            "Epoch 2/20\n",
            "1609/1609 [==============================] - 12s 7ms/step - loss: 1.6262\n",
            "Epoch 3/20\n",
            "1609/1609 [==============================] - 12s 7ms/step - loss: 1.5283\n",
            "Epoch 4/20\n",
            "1609/1609 [==============================] - 12s 7ms/step - loss: 1.4712\n",
            "Epoch 5/20\n",
            "1609/1609 [==============================] - 12s 8ms/step - loss: 1.4420\n",
            "Epoch 6/20\n",
            "1609/1609 [==============================] - 12s 7ms/step - loss: 1.4131\n",
            "Epoch 7/20\n",
            "1609/1609 [==============================] - 12s 7ms/step - loss: 1.3938\n",
            "Epoch 8/20\n",
            "1609/1609 [==============================] - 12s 7ms/step - loss: 1.3877\n",
            "Epoch 9/20\n",
            "1609/1609 [==============================] - 12s 7ms/step - loss: 1.3681\n",
            "Epoch 10/20\n",
            "1609/1609 [==============================] - 12s 7ms/step - loss: 1.3616\n",
            "Epoch 11/20\n",
            "1609/1609 [==============================] - 12s 8ms/step - loss: 1.3559\n",
            "Epoch 12/20\n",
            "1609/1609 [==============================] - 12s 7ms/step - loss: 1.3426\n",
            "Epoch 13/20\n",
            "1609/1609 [==============================] - 12s 7ms/step - loss: 1.3371\n",
            "Epoch 14/20\n",
            "1609/1609 [==============================] - 12s 7ms/step - loss: 1.3322\n",
            "Epoch 15/20\n",
            "1609/1609 [==============================] - 12s 7ms/step - loss: 1.3248\n",
            "Epoch 16/20\n",
            "1609/1609 [==============================] - 12s 7ms/step - loss: 1.3211\n",
            "Epoch 17/20\n",
            "1609/1609 [==============================] - 12s 7ms/step - loss: 1.3167\n",
            "Epoch 18/20\n",
            "1609/1609 [==============================] - 12s 7ms/step - loss: 1.3081\n",
            "Epoch 19/20\n",
            "1609/1609 [==============================] - 12s 7ms/step - loss: 1.3027\n",
            "Epoch 20/20\n",
            "1609/1609 [==============================] - 12s 7ms/step - loss: 1.2996\n",
            "--- Generating with seed: \"ewise that i had deceived myself concerning richard\n",
            "wagner's\"\n"
          ],
          "name": "stdout"
        }
      ]
    },
    {
      "cell_type": "code",
      "metadata": {
        "colab": {
          "base_uri": "https://localhost:8080/"
        },
        "id": "Yu1T-mcjMtYU",
        "outputId": "6afd1c6b-ec55-40cf-cc52-096ad36f2d42"
      },
      "source": [
        "temperature = 0.49\n",
        "for i in range(240):\n",
        "    sampled = np.zeros((1, maxlen, len(chars)))\n",
        "    for t, char in enumerate(generated_text):\n",
        "      sampled[0, t, char_indices[char]] = 1.\n",
        "    preds = model.predict(sampled, verbose=0)[0]\n",
        "    next_index = sample(preds, temperature)\n",
        "    next_char = chars[next_index]\n",
        "    generated_text += next_char\n",
        "    generated_text = generated_text[1:]\n",
        "    sys.stdout.write(next_char)"
      ],
      "execution_count": 14,
      "outputs": [
        {
          "output_type": "stream",
          "text": [
            " experience, which has been an attention of the strength, not to have not to so may be well been the world and consideration of the \"spirit and precise to so stand and with a discontent and probable! what where we hear beamist works of the "
          ],
          "name": "stdout"
        }
      ]
    },
    {
      "cell_type": "code",
      "metadata": {
        "colab": {
          "base_uri": "https://localhost:8080/"
        },
        "id": "R3J2nNFANDbm",
        "outputId": "144f451c-ce46-4d81-93eb-d7061c035219"
      },
      "source": [
        "import random\n",
        "import sys\n",
        "\n",
        "for epoch in range(1, 60):\n",
        "  print('epoch', epoch)\n",
        "  model.fit(x, y, batch_size=128, epochs=1)\n",
        "  start_index = random.randint(0, len(text) - maxlen - 1)\n",
        "  generated_text = text[start_index: start_index + maxlen]\n",
        "  print('--- Generating with seed: \"' + generated_text + '\"')\n",
        "\n",
        "for temperature in [0.2, 0.5, 1.0, 1.2]:\n",
        "  print('------ temperature:', temperature)\n",
        "  sys.stdout.write(generated_text)\n",
        "  for i in range(400):\n",
        "    sampled = np.zeros((1, maxlen, len(chars)))\n",
        "    for t, char in enumerate(generated_text):\n",
        "      sampled[0, t, char_indices[char]] = 1.\n",
        "    preds = model.predict(sampled, verbose=0)[0]\n",
        "    next_index = sample(preds, temperature)\n",
        "    next_char = chars[next_index]\n",
        "    generated_text += next_char\n",
        "    generated_text = generated_text[1:]\n",
        "    sys.stdout.write(next_char)"
      ],
      "execution_count": 15,
      "outputs": [
        {
          "output_type": "stream",
          "text": [
            "epoch 1\n",
            "1609/1609 [==============================] - 12s 8ms/step - loss: 1.3145\n",
            "--- Generating with seed: \"rto there had never\n",
            "and nowhere been such boldness in invers\"\n",
            "epoch 2\n",
            "1609/1609 [==============================] - 12s 7ms/step - loss: 1.3118\n",
            "--- Generating with seed: \" ones will be\n",
            "least able to dispense with the serious and no\"\n",
            "epoch 3\n",
            "1609/1609 [==============================] - 12s 7ms/step - loss: 1.3078\n",
            "--- Generating with seed: \"asure of his rational capacity.\n",
            "\n",
            "\n",
            "103\n",
            "\n",
            "=the inoffensive in b\"\n",
            "epoch 4\n",
            "1609/1609 [==============================] - 12s 7ms/step - loss: 1.3064\n",
            "--- Generating with seed: \"hich offers excellent\n",
            "opportunity and provocation to constan\"\n",
            "epoch 5\n",
            "1609/1609 [==============================] - 12s 7ms/step - loss: 1.3037\n",
            "--- Generating with seed: \"een told, \"it addresses itself to\n",
            "men free from the press of\"\n",
            "epoch 6\n",
            "1609/1609 [==============================] - 12s 7ms/step - loss: 1.3013\n",
            "--- Generating with seed: \" contrast attains its maximum when,\n",
            "in accordance with the l\"\n",
            "epoch 7\n",
            "1609/1609 [==============================] - 12s 7ms/step - loss: 1.2989\n",
            "--- Generating with seed: \"f cruelty--this is\n",
            "my thesis; the \"wild beast\" has not been \"\n",
            "epoch 8\n",
            "1609/1609 [==============================] - 12s 8ms/step - loss: 1.2969\n",
            "--- Generating with seed: \"en: i see no one in europe who has (or discloses)\n",
            "an idea of\"\n",
            "epoch 9\n",
            "1609/1609 [==============================] - 12s 7ms/step - loss: 1.2933\n",
            "--- Generating with seed: \"s found its readers in a wide circle of lands and\n",
            "peoples--i\"\n",
            "epoch 10\n",
            "1609/1609 [==============================] - 12s 7ms/step - loss: 1.2898\n",
            "--- Generating with seed: \"and spirit--we shall presumably, if we must\n",
            "have virtues, ha\"\n",
            "epoch 11\n",
            "1609/1609 [==============================] - 12s 7ms/step - loss: 1.2884\n",
            "--- Generating with seed: \"ion of \"greatness\" to be noble, to wish to be\n",
            "apart, to be c\"\n",
            "epoch 12\n",
            "1609/1609 [==============================] - 12s 7ms/step - loss: 1.2865\n",
            "--- Generating with seed: \"oncealed god, in the\n",
            "'thing-in-itself--there must be their s\"\n",
            "epoch 13\n",
            "1609/1609 [==============================] - 12s 7ms/step - loss: 1.2862\n",
            "--- Generating with seed: \", ideas by which they could live\n",
            "better, that is to say, mor\"\n",
            "epoch 14\n",
            "1609/1609 [==============================] - 12s 7ms/step - loss: 1.2820\n",
            "--- Generating with seed: \"e could not act any differently than he did act. hence the\n",
            "r\"\n",
            "epoch 15\n",
            "1609/1609 [==============================] - 12s 7ms/step - loss: 1.2818\n",
            "--- Generating with seed: \"\n",
            "the way, that was ever addressed to a son.\n",
            "\n",
            "236. i have no \"\n",
            "epoch 16\n",
            "1609/1609 [==============================] - 12s 7ms/step - loss: 1.2801\n",
            "--- Generating with seed: \" a man learns\n",
            "to introduce a little art into his sentiments,\"\n",
            "epoch 17\n",
            "1609/1609 [==============================] - 12s 7ms/step - loss: 1.2772\n",
            "--- Generating with seed: \"echanical doltishness which makes\n",
            "the cause press and push u\"\n",
            "epoch 18\n",
            "1609/1609 [==============================] - 12s 7ms/step - loss: 1.2761\n",
            "--- Generating with seed: \"nsible to them at\n",
            "all; it indicates backwardness, but only f\"\n",
            "epoch 19\n",
            "1609/1609 [==============================] - 12s 8ms/step - loss: 1.2738\n",
            "--- Generating with seed: \" does opium induce sleep? \"by means of\n",
            "a means (faculty),\" n\"\n",
            "epoch 20\n",
            "1609/1609 [==============================] - 12s 7ms/step - loss: 1.2727\n",
            "--- Generating with seed: \"dation: in short, whether german depth is not at bottom some\"\n",
            "epoch 21\n",
            "1609/1609 [==============================] - 12s 8ms/step - loss: 1.2706\n",
            "--- Generating with seed: \" course of\n",
            "conduct. the individual can, in that condition wh\"\n",
            "epoch 22\n",
            "1609/1609 [==============================] - 12s 8ms/step - loss: 1.2684\n",
            "--- Generating with seed: \"ue of its hardness, its uniformity, and simplicity of\n",
            "struct\"\n",
            "epoch 23\n",
            "1609/1609 [==============================] - 12s 7ms/step - loss: 1.2691\n",
            "--- Generating with seed: \"tlest,\n",
            "narrowest, meanest, least developed and yet cannot he\"\n",
            "epoch 24\n",
            "1609/1609 [==============================] - 12s 7ms/step - loss: 1.2662\n",
            "--- Generating with seed: \"doubtedly!\" replied the other old patriot\n",
            "vehemently, \"other\"\n",
            "epoch 25\n",
            "1609/1609 [==============================] - 12s 7ms/step - loss: 1.2676\n",
            "--- Generating with seed: \" to be otherwise than this nature? is not living valuing,\n",
            "pr\"\n",
            "epoch 26\n",
            "1609/1609 [==============================] - 12s 8ms/step - loss: 1.2643\n",
            "--- Generating with seed: \"id to the root of the \"metaphysical necessities\" of\n",
            "men--whe\"\n",
            "epoch 27\n",
            "1609/1609 [==============================] - 12s 7ms/step - loss: 1.2636\n",
            "--- Generating with seed: \"tion \"towards which we go,\" the sensation of this\n",
            "\"from\" and\"\n",
            "epoch 28\n",
            "1609/1609 [==============================] - 12s 8ms/step - loss: 1.2620\n",
            "--- Generating with seed: \"volition, of\n",
            "higher power, indeed as an ultra-human degree o\"\n",
            "epoch 29\n",
            "1609/1609 [==============================] - 12s 7ms/step - loss: 1.2627\n",
            "--- Generating with seed: \"peculiar lofty bounty\n",
            "to his fellow-men is only possible whe\"\n",
            "epoch 30\n",
            "1609/1609 [==============================] - 12s 7ms/step - loss: 1.2618\n",
            "--- Generating with seed: \"ject\n",
            "humiliation and subjection, so that his overwrought sou\"\n",
            "epoch 31\n",
            "1609/1609 [==============================] - 12s 8ms/step - loss: 1.2610\n",
            "--- Generating with seed: \" the small number who command--in view, therefore, of the fa\"\n",
            "epoch 32\n",
            "1609/1609 [==============================] - 12s 7ms/step - loss: 1.2586\n",
            "--- Generating with seed: \"at all for which men sacrificed life and\n",
            "happiness in former\"\n",
            "epoch 33\n",
            "1609/1609 [==============================] - 12s 7ms/step - loss: 1.2564\n",
            "--- Generating with seed: \" scholars into new and dangerous\n",
            "hunting-domains, where cour\"\n",
            "epoch 34\n",
            "1609/1609 [==============================] - 12s 8ms/step - loss: 1.5044\n",
            "--- Generating with seed: \"le in other respects, in one thing we are nevertheless the\n",
            "w\"\n",
            "epoch 35\n",
            "1609/1609 [==============================] - 12s 7ms/step - loss: 2.1868\n",
            "--- Generating with seed: \"existence of a god. the consensus\n",
            "gentium and especially hom\"\n",
            "epoch 36\n",
            "1609/1609 [==============================] - 12s 8ms/step - loss: 2.7620\n",
            "--- Generating with seed: \"ee. among ourselves, this is an allegory;\n",
            "and the psychologi\"\n",
            "epoch 37\n",
            "1609/1609 [==============================] - 12s 7ms/step - loss: 4.2475\n",
            "--- Generating with seed: \"--it is\n",
            "hope.--zeus intended that man, notwithstanding the e\"\n",
            "epoch 38\n",
            "1609/1609 [==============================] - 12s 8ms/step - loss: 4.7591\n",
            "--- Generating with seed: \"sequences, fruitful and fearful at once, and confronting\n",
            "the\"\n",
            "epoch 39\n",
            "1609/1609 [==============================] - 12s 7ms/step - loss: 4.1720\n",
            "--- Generating with seed: \"ed when he sees\n",
            "the most hidden world-problem or world-pain \"\n",
            "epoch 40\n",
            "1609/1609 [==============================] - 12s 8ms/step - loss: 3.7158\n",
            "--- Generating with seed: \"s too hard, and\n",
            "would fain have it pleasanter, easier, and g\"\n",
            "epoch 41\n",
            "1609/1609 [==============================] - 12s 8ms/step - loss: 3.8493\n",
            "--- Generating with seed: \"--that is to say, former determinations\n",
            "of value, creations \"\n",
            "epoch 42\n",
            "1609/1609 [==============================] - 12s 8ms/step - loss: 3.9881\n",
            "--- Generating with seed: \"sar (with whom i should like to associate the first of europ\"\n",
            "epoch 43\n",
            "1609/1609 [==============================] - 12s 8ms/step - loss: 4.5271\n",
            "--- Generating with seed: \"dary\n",
            "matter, partly conventional and arbitrarily manifested \"\n",
            "epoch 44\n",
            "1609/1609 [==============================] - 12s 7ms/step - loss: 5.3470\n",
            "--- Generating with seed: \"ugh it tempt one with the most valuable discoveries,\n",
            "apparen\"\n",
            "epoch 45\n",
            "1609/1609 [==============================] - 12s 8ms/step - loss: 4.3843\n",
            "--- Generating with seed: \"\n",
            "said: \"the wise man punishes not because a bad act has been\"\n",
            "epoch 46\n",
            "1609/1609 [==============================] - 12s 8ms/step - loss: 3.9061\n",
            "--- Generating with seed: \" that world of\n",
            "conception, and lift us, at least for a time,\"\n",
            "epoch 47\n",
            "1609/1609 [==============================] - 12s 8ms/step - loss: 3.7140\n",
            "--- Generating with seed: \" seen as a collective celebration of the boundless human pot\"\n",
            "epoch 48\n",
            "1609/1609 [==============================] - 12s 8ms/step - loss: 3.5546\n",
            "--- Generating with seed: \"ive them, have grown from the same roots in which we\n",
            "believe\"\n",
            "epoch 49\n",
            "1609/1609 [==============================] - 12s 8ms/step - loss: 3.4772\n",
            "--- Generating with seed: \"d suffering, which\n",
            "means, in deed and in truth, to work for \"\n",
            "epoch 50\n",
            "1609/1609 [==============================] - 12s 8ms/step - loss: 3.4361\n",
            "--- Generating with seed: \", the characteristic of the moral; faith\n",
            "in oneself, pride i\"\n",
            "epoch 51\n",
            "1609/1609 [==============================] - 12s 8ms/step - loss: 3.3696\n",
            "--- Generating with seed: \"ression: the latter requires more\n",
            "force, more \"morality.\" it\"\n",
            "epoch 52\n",
            "1609/1609 [==============================] - 12s 8ms/step - loss: 3.3276\n",
            "--- Generating with seed: \"e see wealthy people and conclude that they aren’t successfu\"\n",
            "epoch 53\n",
            "1609/1609 [==============================] - 12s 8ms/step - loss: 3.2830\n",
            "--- Generating with seed: \"ductio ad absurdum, if the conception causa sui is something\"\n",
            "epoch 54\n",
            "1609/1609 [==============================] - 12s 8ms/step - loss: 3.2494\n",
            "--- Generating with seed: \" is a warrior in you and never shut it down. you are capable\"\n",
            "epoch 55\n",
            "1609/1609 [==============================] - 12s 8ms/step - loss: 3.2092\n",
            "--- Generating with seed: \"er; to that overplus of plastic,\n",
            "healing, imitative and rest\"\n",
            "epoch 56\n",
            "1609/1609 [==============================] - 12s 8ms/step - loss: 3.1759\n",
            "--- Generating with seed: \"europeans.\" for them bizet\n",
            "has made music, this latest geniu\"\n",
            "epoch 57\n",
            "1609/1609 [==============================] - 12s 8ms/step - loss: 3.1519\n",
            "--- Generating with seed: \"ust be courses and windings corresponding to\n",
            "such characters\"\n",
            "epoch 58\n",
            "1609/1609 [==============================] - 12s 8ms/step - loss: 3.1372\n",
            "--- Generating with seed: \"a new kind of explosive were being tried\n",
            "somewhere, a dynami\"\n",
            "epoch 59\n",
            "1609/1609 [==============================] - 12s 8ms/step - loss: 3.1141\n",
            "--- Generating with seed: \" the weaker. he has the right to\n",
            "do so, as the state nowaday\"\n",
            "------ temperature: 0.2\n",
            " the weaker. he has the right to\n",
            "do so, as the state nowaday tt t"
          ],
          "name": "stdout"
        },
        {
          "output_type": "stream",
          "text": [
            "/usr/local/lib/python3.7/dist-packages/ipykernel_launcher.py:3: RuntimeWarning: divide by zero encountered in log\n",
            "  This is separate from the ipykernel package so we can avoid doing imports until\n"
          ],
          "name": "stderr"
        },
        {
          "output_type": "stream",
          "text": [
            "rer we neht tenee  he t a  the wr t thar ane  r not there n n t thee wat t  hn tatt e ethee thee ine anat sotinern waa t t ofexh tho    tat aonther  eon t    theeere fe ndret te anosex he tther ae thent tet he  an t n t rjd to then thee  se    orl  the t n atnofe too  ed thel tohh ong et th it he  the ta ton eer thenhn  nense  an s o e e ti s tee anne tr c oene  on   eran rr teenten  at nd  o------ temperature: 0.5\n",
            " e e ti s tee anne tr c oene  on   eran rr teenten  at nd  oinon as otheetf iner  ot ts th wp li the thiinto otat jn  d  t toeateeresohegte ioheatet ho e teiothnin lvans oeis imeebrrel an ee o nis nnt  onathe ni oy int to the set t n  nr4retneodern,aslrasown e aeh ahre  oon horrt sehu as e tt hcat  iele thd atanriairutonle haonf anonorefr ai eirha l   k at theei sooritrhes tllerey ii p tn ulsusoo\n",
            "ha\n",
            "n  stiirtesae te ththan  at eth t enreent tee (  amponned------ temperature: 1.0\n",
            "ha\n",
            "n  stiirtesae te ththan  at eth t enreent tee (  amponnedxio ionoin  m dieuudrl tho sar,\n",
            "a helorp bovt\n",
            "hton su gund l teoth1hir eci tho hdinlnee o ep.etv itanrrledrrdu io  banrlpegio a o hut ihpl auers\n",
            "onamit ban hel felty tnige\"   lef, lrewieyaret todrti ,haherutgooss\n",
            "fspaul phntoh hithorip onsi oneg ly imye mkedys otumo artlodro, iartti uwostmoltuen s rhe dheadr canutcsetet wim.stlup rcio cep  tt c nlarvm  at bnayinir a not hofaorhcece\n",
            "gaatett de\n",
            "ntur------ temperature: 1.2\n",
            "  tt c nlarvm  at bnayinir a not hofaorhcece\n",
            "gaatett de\n",
            "ntur\n",
            "o  besooh\"paonus itocts uoee. hncgona, i atirwrihi nr vog  b\n",
            ";ah ,epstnanllt\" ocrc aee inroifranldiontnopeng w vbtc.,enlcirenrorsrevuhvstonihill wg  frid alhint-tiy ntvity\n",
            " g t lstin ltg t rid \n",
            "hoeeaa\n",
            "avho bosthmlelel\n",
            "atalsww lusoi ibrthh  ,i,se mi aa  hnde wm f  \n",
            "ao\n",
            "fnlu\n",
            "ryipnptsfk heretescn ivihet ; ithg onnthheipeydnshs tuee ti peicndbe sls hdt y mennulieaadeonwigein,.\n",
            "a, iospnthofcogisuunt\n",
            "be"
          ],
          "name": "stdout"
        }
      ]
    },
    {
      "cell_type": "code",
      "metadata": {
        "id": "ADE4cW_TFuY1"
      },
      "source": [
        ""
      ],
      "execution_count": null,
      "outputs": []
    }
  ]
}