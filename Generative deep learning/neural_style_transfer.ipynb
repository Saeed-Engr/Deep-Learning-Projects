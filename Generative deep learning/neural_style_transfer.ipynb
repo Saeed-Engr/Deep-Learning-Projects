{
  "nbformat": 4,
  "nbformat_minor": 0,
  "metadata": {
    "colab": {
      "name": "neural style transfer.ipynb",
      "provenance": [],
      "collapsed_sections": []
    },
    "kernelspec": {
      "display_name": "Python 3",
      "name": "python3"
    },
    "language_info": {
      "name": "python"
    },
    "accelerator": "GPU"
  },
  "cells": [
    {
      "cell_type": "code",
      "metadata": {
        "id": "K3NhfN6H-ulu"
      },
      "source": [
        "import tensorflow as tf\n",
        "tf.compat.v1.disable_eager_execution()"
      ],
      "execution_count": 106,
      "outputs": []
    },
    {
      "cell_type": "code",
      "metadata": {
        "id": "AiYh_yaH8aoK"
      },
      "source": [
        "from keras.preprocessing.image import load_img, img_to_array\n",
        "target_image_path = '/content/f.jpg'\n",
        "style_reference_image_path = '/content/sk.jpeg'\n",
        "width, height = load_img(target_image_path).size\n",
        "img_height = 400\n",
        "img_width = int(width * img_height / height)"
      ],
      "execution_count": 107,
      "outputs": []
    },
    {
      "cell_type": "code",
      "metadata": {
        "id": "kJYONFNx9iTQ"
      },
      "source": [
        "import numpy as np\n",
        "from keras.applications import vgg19\n",
        "def preprocess_image(image_path):\n",
        "  img = load_img(image_path, target_size=(img_height, img_width))\n",
        "  img = img_to_array(img)\n",
        "  img = np.expand_dims(img, axis=0)\n",
        "  img = vgg19.preprocess_input(img)\n",
        "  return img"
      ],
      "execution_count": 108,
      "outputs": []
    },
    {
      "cell_type": "code",
      "metadata": {
        "id": "5fkuaA-l9o_s"
      },
      "source": [
        "def deprocess_image(x):\n",
        "  x[:, :, 0] += 103.939\n",
        "  x[:, :, 1] += 116.779\n",
        "  x[:, :, 2] += 123.68\n",
        "  x = x[:, :, ::-1]\n",
        "  x = np.clip(x, 0, 255).astype('uint8')\n",
        "  return x"
      ],
      "execution_count": 109,
      "outputs": []
    },
    {
      "cell_type": "code",
      "metadata": {
        "colab": {
          "base_uri": "https://localhost:8080/"
        },
        "id": "u1JW31UC9tts",
        "outputId": "5643e613-bf69-4119-a2a3-1f78eb0ad2ec"
      },
      "source": [
        "from keras import backend as K\n",
        "target_image = K.constant(preprocess_image(target_image_path))\n",
        "style_reference_image = K.constant(preprocess_image(style_reference_image_path))\n",
        "combination_image = K.placeholder((1, img_height, img_width, 3))\n",
        "input_tensor = K.concatenate([target_image,\n",
        "style_reference_image,\n",
        "combination_image], axis=0)\n",
        "model = vgg19.VGG19(input_tensor=input_tensor,\n",
        "weights='imagenet',\n",
        "include_top=False)\n",
        "print('Model loaded.')"
      ],
      "execution_count": 110,
      "outputs": [
        {
          "output_type": "stream",
          "text": [
            "Model loaded.\n"
          ],
          "name": "stdout"
        }
      ]
    },
    {
      "cell_type": "code",
      "metadata": {
        "id": "bLGz6XQZ9yul"
      },
      "source": [
        "def content_loss(base, combination):\n",
        "  return K.sum(K.square(combination - base))"
      ],
      "execution_count": 111,
      "outputs": []
    },
    {
      "cell_type": "code",
      "metadata": {
        "id": "U9-z6i1f932w"
      },
      "source": [
        "def gram_matrix(x):\n",
        "  features = K.batch_flatten(K.permute_dimensions(x, (2, 0, 1)))\n",
        "  gram = K.dot(features, K.transpose(features))\n",
        "  return gram"
      ],
      "execution_count": 112,
      "outputs": []
    },
    {
      "cell_type": "code",
      "metadata": {
        "id": "H1f4Izpv99Ot"
      },
      "source": [
        "def style_loss(style, combination):\n",
        "  S = gram_matrix(style)\n",
        "  C = gram_matrix(combination)\n",
        "  channels = 3\n",
        "  size = img_height * img_width\n",
        "  return K.sum(K.square(S - C)) / (4. * (channels ** 2) * (size ** 2))"
      ],
      "execution_count": 113,
      "outputs": []
    },
    {
      "cell_type": "code",
      "metadata": {
        "id": "RVFHWlAR-CPm"
      },
      "source": [
        "def total_variation_loss(x):\n",
        "  a = K.square(\n",
        "  x[:, :img_height - 1, :img_width - 1, :] -\n",
        "  x[:, 1:, :img_width - 1, :])\n",
        "  b = K.square(\n",
        "  x[:, :img_height - 1, :img_width - 1, :] -\n",
        "  x[:, :img_height - 1, 1:, :])\n",
        "  return K.sum(K.pow(a + b, 1.25))"
      ],
      "execution_count": 114,
      "outputs": []
    },
    {
      "cell_type": "code",
      "metadata": {
        "id": "0_-YSYMT-G32"
      },
      "source": [
        "outputs_dict = dict([(layer.name, layer.output) for layer in model.layers])\n",
        "content_layer = 'block5_conv2'\n",
        "style_layers = ['block1_conv1',\n",
        "'block2_conv1',\n",
        "'block3_conv1',\n",
        "'block4_conv1',\n",
        "'block5_conv1']\n",
        "total_variation_weight = 1e-4\n",
        "style_weight = 1.\n",
        "content_weight = 0.025"
      ],
      "execution_count": 115,
      "outputs": []
    },
    {
      "cell_type": "code",
      "metadata": {
        "id": "1Fad0BDI-LQn"
      },
      "source": [
        "loss = K.variable(0.)\n",
        "layer_features = outputs_dict[content_layer]\n",
        "target_image_features = layer_features[0, :, :, :]\n",
        "combination_features = layer_features[2, :, :, :]\n",
        "loss =loss + content_weight * content_loss(target_image_features,\n",
        "combination_features)"
      ],
      "execution_count": 116,
      "outputs": []
    },
    {
      "cell_type": "code",
      "metadata": {
        "id": "wvz-TxvS-PJX"
      },
      "source": [
        "for layer_name in style_layers:\n",
        "  layer_features = outputs_dict[layer_name]\n",
        "  style_reference_features = layer_features[1, :, :, :]\n",
        "  combination_features = layer_features[2, :, :, :]\n",
        "  sl = style_loss(style_reference_features, combination_features)\n",
        "  loss =loss + (style_weight / len(style_layers)) * sl\n",
        "loss += total_variation_weight * total_variation_loss(combination_image)"
      ],
      "execution_count": 117,
      "outputs": []
    },
    {
      "cell_type": "code",
      "metadata": {
        "id": "JlLRRYiq-clO"
      },
      "source": [
        "grads = K.gradients(loss, combination_image)[0]\n",
        "fetch_loss_and_grads = K.function([combination_image], [loss, grads])"
      ],
      "execution_count": 118,
      "outputs": []
    },
    {
      "cell_type": "code",
      "metadata": {
        "id": "uU5rvYo5-hrI"
      },
      "source": [
        "class Evaluator(object):\n",
        "  def __init__(self):\n",
        "    self.loss_value = None\n",
        "    self.grads_values = None\n",
        "  def loss(self, x):\n",
        "    assert self.loss_value is None\n",
        "    x = x.reshape((1, img_height, img_width, 3))\n",
        "    outs = fetch_loss_and_grads([x])\n",
        "    loss_value = outs[0]\n",
        "    grad_values = outs[1].flatten().astype('float64')\n",
        "    self.loss_value = loss_value\n",
        "    self.grad_values = grad_values\n",
        "    return self.loss_value\n",
        "  def grads(self, x):\n",
        "    assert self.loss_value is not None\n",
        "    grad_values = np.copy(self.grad_values)\n",
        "    self.loss_value = None\n",
        "    self.grad_values = None\n",
        "    return grad_values\n",
        "evaluator = Evaluator()"
      ],
      "execution_count": 119,
      "outputs": []
    },
    {
      "cell_type": "code",
      "metadata": {
        "id": "FPgBtL3N_b5D"
      },
      "source": [
        ""
      ],
      "execution_count": 119,
      "outputs": []
    },
    {
      "cell_type": "code",
      "metadata": {
        "id": "i-kzIZ4K_ncY"
      },
      "source": [
        "from scipy.optimize import fmin_l_bfgs_b\n",
        "from keras.preprocessing.image import save_img\n",
        "import time\n",
        "result_prefix = 'my_result'\n",
        "iterations = 20\n",
        "x = preprocess_image(target_image_path)\n",
        "x = x.flatten()"
      ],
      "execution_count": 120,
      "outputs": []
    },
    {
      "cell_type": "code",
      "metadata": {
        "colab": {
          "base_uri": "https://localhost:8080/"
        },
        "id": "scmNGGWr_stA",
        "outputId": "702ed984-7160-4d6f-f399-c7ed9dccb7d3"
      },
      "source": [
        "for i in range(iterations):\n",
        "  print('Start of iteration', i)\n",
        "  start_time = time.time()\n",
        "  x, min_val, info = fmin_l_bfgs_b(evaluator.loss,\n",
        "  x,\n",
        "  fprime=evaluator.grads,\n",
        "  maxfun=20)\n",
        "  print('Current loss value:', min_val)\n",
        "  img = x.copy().reshape((img_height, img_width, 3))\n",
        "  img = deprocess_image(img)\n",
        "  fname = result_prefix + '_at_iteration_%d.png' % i\n",
        "  save_img(fname, img)\n",
        "  print('Image saved as', fname)\n",
        "  end_time = time.time()\n",
        "  print('Iteration %d completed in %ds' % (i, end_time - start_time))"
      ],
      "execution_count": 121,
      "outputs": [
        {
          "output_type": "stream",
          "text": [
            "Start of iteration 0\n",
            "Current loss value: 481959500.0\n",
            "Image saved as my_result_at_iteration_0.png\n",
            "Iteration 0 completed in 14s\n",
            "Start of iteration 1\n",
            "Current loss value: 261692770.0\n",
            "Image saved as my_result_at_iteration_1.png\n",
            "Iteration 1 completed in 13s\n",
            "Start of iteration 2\n",
            "Current loss value: 192213260.0\n",
            "Image saved as my_result_at_iteration_2.png\n",
            "Iteration 2 completed in 13s\n",
            "Start of iteration 3\n",
            "Current loss value: 157549380.0\n",
            "Image saved as my_result_at_iteration_3.png\n",
            "Iteration 3 completed in 13s\n",
            "Start of iteration 4\n",
            "Current loss value: 137087580.0\n",
            "Image saved as my_result_at_iteration_4.png\n",
            "Iteration 4 completed in 13s\n",
            "Start of iteration 5\n",
            "Current loss value: 123473030.0\n",
            "Image saved as my_result_at_iteration_5.png\n",
            "Iteration 5 completed in 13s\n",
            "Start of iteration 6\n",
            "Current loss value: 112357176.0\n",
            "Image saved as my_result_at_iteration_6.png\n",
            "Iteration 6 completed in 13s\n",
            "Start of iteration 7\n",
            "Current loss value: 102975040.0\n",
            "Image saved as my_result_at_iteration_7.png\n",
            "Iteration 7 completed in 13s\n",
            "Start of iteration 8\n",
            "Current loss value: 95612780.0\n",
            "Image saved as my_result_at_iteration_8.png\n",
            "Iteration 8 completed in 13s\n",
            "Start of iteration 9\n",
            "Current loss value: 89575900.0\n",
            "Image saved as my_result_at_iteration_9.png\n",
            "Iteration 9 completed in 13s\n",
            "Start of iteration 10\n",
            "Current loss value: 84466180.0\n",
            "Image saved as my_result_at_iteration_10.png\n",
            "Iteration 10 completed in 13s\n",
            "Start of iteration 11\n",
            "Current loss value: 79979910.0\n",
            "Image saved as my_result_at_iteration_11.png\n",
            "Iteration 11 completed in 13s\n",
            "Start of iteration 12\n",
            "Current loss value: 76489450.0\n",
            "Image saved as my_result_at_iteration_12.png\n",
            "Iteration 12 completed in 13s\n",
            "Start of iteration 13\n",
            "Current loss value: 72863200.0\n",
            "Image saved as my_result_at_iteration_13.png\n",
            "Iteration 13 completed in 13s\n",
            "Start of iteration 14\n",
            "Current loss value: 69686920.0\n",
            "Image saved as my_result_at_iteration_14.png\n",
            "Iteration 14 completed in 13s\n",
            "Start of iteration 15\n",
            "Current loss value: 66757116.0\n",
            "Image saved as my_result_at_iteration_15.png\n",
            "Iteration 15 completed in 13s\n",
            "Start of iteration 16\n",
            "Current loss value: 63771416.0\n",
            "Image saved as my_result_at_iteration_16.png\n",
            "Iteration 16 completed in 13s\n",
            "Start of iteration 17\n",
            "Current loss value: 61240460.0\n",
            "Image saved as my_result_at_iteration_17.png\n",
            "Iteration 17 completed in 13s\n",
            "Start of iteration 18\n",
            "Current loss value: 59035356.0\n",
            "Image saved as my_result_at_iteration_18.png\n",
            "Iteration 18 completed in 13s\n",
            "Start of iteration 19\n",
            "Current loss value: 57027384.0\n",
            "Image saved as my_result_at_iteration_19.png\n",
            "Iteration 19 completed in 13s\n"
          ],
          "name": "stdout"
        }
      ]
    },
    {
      "cell_type": "code",
      "metadata": {
        "id": "Lw9LUP5oCHHD"
      },
      "source": [
        ""
      ],
      "execution_count": 67,
      "outputs": []
    }
  ]
}