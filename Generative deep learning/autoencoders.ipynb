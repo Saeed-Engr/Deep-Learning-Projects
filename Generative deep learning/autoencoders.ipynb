{
  "nbformat": 4,
  "nbformat_minor": 0,
  "metadata": {
    "colab": {
      "name": "autoencoders.ipynb",
      "provenance": []
    },
    "kernelspec": {
      "name": "python3",
      "display_name": "Python 3"
    },
    "language_info": {
      "name": "python"
    },
    "accelerator": "GPU"
  },
  "cells": [
    {
      "cell_type": "code",
      "metadata": {
        "id": "gKSdywUIPDIn"
      },
      "source": [
        "import numpy as np\n",
        "import keras\n",
        "from keras.datasets import mnist\n",
        "from keras.models import Sequential, Model\n",
        "from keras.layers import Dense, Input\n",
        "from keras import optimizers\n",
        "from keras.optimizers import Adam"
      ],
      "execution_count": 1,
      "outputs": []
    },
    {
      "cell_type": "code",
      "metadata": {
        "colab": {
          "base_uri": "https://localhost:8080/"
        },
        "id": "df_Uqt_nPYzn",
        "outputId": "c135497e-520e-40ff-feb1-fa63f10237e8"
      },
      "source": [
        "(x_train, y_tr), (x_test, y_test) = mnist.load_data()\n",
        "x_train = x_train.reshape(60000, 784) / 255\n",
        "val_x = x_test.reshape(10000, 784) / 255"
      ],
      "execution_count": 2,
      "outputs": [
        {
          "output_type": "stream",
          "text": [
            "Downloading data from https://storage.googleapis.com/tensorflow/tf-keras-datasets/mnist.npz\n",
            "11493376/11490434 [==============================] - 0s 0us/step\n"
          ],
          "name": "stdout"
        }
      ]
    },
    {
      "cell_type": "code",
      "metadata": {
        "id": "8Nifiq09PdB2"
      },
      "source": [
        "autoencoder = Sequential()\n",
        "autoencoder.add(Dense(512, activation=\"elu\", input_shape=(784,)))\n",
        "autoencoder.add(Dense(128, activation=\"elu\"))\n",
        "autoencoder.add(Dense(10, activation=\"linear\",name=\"latinVector\"))\n",
        "autoencoder.add(Dense(128, activation=\"elu\"))\n",
        "autoencoder.add(Dense(512, activation=\"elu\"))\n",
        "autoencoder.add(Dense(784, activation=\"sigmoid\"))\n",
        "\n",
        "autoencoder.compile(loss='mean_squared_error', optimizer=Adam())"
      ],
      "execution_count": 3,
      "outputs": []
    },
    {
      "cell_type": "code",
      "metadata": {
        "colab": {
          "base_uri": "https://localhost:8080/"
        },
        "id": "qa2rVftUPf7O",
        "outputId": "06c883ee-a52b-4efe-8a35-b41d8fdc13f1"
      },
      "source": [
        "model = autoencoder.fit(x_train,x_train, batch_size=1024, epochs=10, verbose=1,\n",
        "                        validation_data=(val_x, val_x))"
      ],
      "execution_count": 4,
      "outputs": [
        {
          "output_type": "stream",
          "text": [
            "Epoch 1/10\n",
            "59/59 [==============================] - 4s 20ms/step - loss: 0.1095 - val_loss: 0.0491\n",
            "Epoch 2/10\n",
            "59/59 [==============================] - 1s 12ms/step - loss: 0.0468 - val_loss: 0.0381\n",
            "Epoch 3/10\n",
            "59/59 [==============================] - 1s 12ms/step - loss: 0.0369 - val_loss: 0.0320\n",
            "Epoch 4/10\n",
            "59/59 [==============================] - 1s 12ms/step - loss: 0.0314 - val_loss: 0.0276\n",
            "Epoch 5/10\n",
            "59/59 [==============================] - 1s 11ms/step - loss: 0.0274 - val_loss: 0.0248\n",
            "Epoch 6/10\n",
            "59/59 [==============================] - 1s 11ms/step - loss: 0.0249 - val_loss: 0.0232\n",
            "Epoch 7/10\n",
            "59/59 [==============================] - 1s 11ms/step - loss: 0.0232 - val_loss: 0.0219\n",
            "Epoch 8/10\n",
            "59/59 [==============================] - 1s 11ms/step - loss: 0.0220 - val_loss: 0.0209\n",
            "Epoch 9/10\n",
            "59/59 [==============================] - 1s 11ms/step - loss: 0.0210 - val_loss: 0.0201\n",
            "Epoch 10/10\n",
            "59/59 [==============================] - 1s 11ms/step - loss: 0.0203 - val_loss: 0.0194\n"
          ],
          "name": "stdout"
        }
      ]
    },
    {
      "cell_type": "code",
      "metadata": {
        "id": "Zs15jMrXPkVv"
      },
      "source": [
        "encoder = Model(autoencoder.input, autoencoder.get_layer('latinVector').output)\n",
        "encoded_data = encoder.predict(x_train)\n",
        "encoding_dim = 10"
      ],
      "execution_count": 5,
      "outputs": []
    },
    {
      "cell_type": "code",
      "metadata": {
        "id": "FcyRG_dPP3Po"
      },
      "source": [
        "encode_input = Input(shape=(encoding_dim,))\n",
        "\n",
        "decoder = autoencoder.layers[-3](encode_input)\n",
        "decoder = autoencoder.layers[-2](decoder)\n",
        "decoder = autoencoder.layers[-1](decoder)\n",
        "decoder = Model(encode_input,decoder)"
      ],
      "execution_count": 6,
      "outputs": []
    },
    {
      "cell_type": "code",
      "metadata": {
        "colab": {
          "base_uri": "https://localhost:8080/"
        },
        "id": "1BhYoQTeP6Bv",
        "outputId": "d1eff9bd-f6aa-438c-8d62-8d212a24395e"
      },
      "source": [
        "%matplotlib inline\n",
        "from keras.preprocessing import image\n",
        "\n",
        "img = image.load_img('/content/mt.png', target_size=(28,28), color_mode='grayscale')\n",
        "input_img = image.img_to_array(img)\n",
        "print(input_img.shape)\n",
        "inputs = input_img.reshape(1,784) / 255\n",
        "\n",
        "target_data = autoencoder.predict(inputs)\n",
        "dist = np.linalg.norm(inputs - target_data, axis=-1)\n",
        "print(dist)"
      ],
      "execution_count": 7,
      "outputs": [
        {
          "output_type": "stream",
          "text": [
            "(28, 28, 1)\n",
            "[6.29273]\n"
          ],
          "name": "stdout"
        }
      ]
    },
    {
      "cell_type": "code",
      "metadata": {
        "id": "pC9oxTiDRcXo"
      },
      "source": [
        "check = x_train[5].reshape(1,784)/255"
      ],
      "execution_count": 14,
      "outputs": []
    },
    {
      "cell_type": "code",
      "metadata": {
        "id": "nhh1gPYeQVtx"
      },
      "source": [
        "result = autoencoder.predict(check)"
      ],
      "execution_count": 19,
      "outputs": []
    },
    {
      "cell_type": "code",
      "metadata": {
        "id": "cqEOkAIeQxU1"
      },
      "source": [
        "import matplotlib.pyplot as plt"
      ],
      "execution_count": 20,
      "outputs": []
    },
    {
      "cell_type": "code",
      "metadata": {
        "colab": {
          "base_uri": "https://localhost:8080/",
          "height": 282
        },
        "id": "FSc13ZO_RznS",
        "outputId": "3d8a1caa-e486-418c-9e81-d7e0133f7e60"
      },
      "source": [
        "plt.imshow(result.reshape(28,28))"
      ],
      "execution_count": 21,
      "outputs": [
        {
          "output_type": "execute_result",
          "data": {
            "text/plain": [
              "<matplotlib.image.AxesImage at 0x7f1039c1e490>"
            ]
          },
          "metadata": {
            "tags": []
          },
          "execution_count": 21
        },
        {
          "output_type": "display_data",
          "data": {
            "image/png": "[encoded data removed]",
            "text/plain": [
              "<Figure size 432x288 with 1 Axes>"
            ]
          },
          "metadata": {
            "tags": [],
            "needs_background": "light"
          }
        }
      ]
    },
    {
      "cell_type": "code",
      "metadata": {
        "colab": {
          "base_uri": "https://localhost:8080/",
          "height": 282
        },
        "id": "5cly2VqPR7xH",
        "outputId": "c5d824c7-6aa2-4cc1-c916-625bddd2bf28"
      },
      "source": [
        "plt.imshow(x_train[5].reshape(28,28))"
      ],
      "execution_count": 23,
      "outputs": [
        {
          "output_type": "execute_result",
          "data": {
            "text/plain": [
              "<matplotlib.image.AxesImage at 0x7f1039681b50>"
            ]
          },
          "metadata": {
            "tags": []
          },
          "execution_count": 23
        },
        {
          "output_type": "display_data",
          "data": {
            "image/png": "[encoded data removed]",
            "text/plain": [
              "<Figure size 432x288 with 1 Axes>"
            ]
          },
          "metadata": {
            "tags": [],
            "needs_background": "light"
          }
        }
      ]
    },
    {
      "cell_type": "code",
      "metadata": {
        "colab": {
          "base_uri": "https://localhost:8080/",
          "height": 282
        },
        "id": "pdW-P8kPSKig",
        "outputId": "9d7605dc-3987-452b-a044-b400e47edeca"
      },
      "source": [
        "check = x_train[11].reshape(1,784)/255\n",
        "result = autoencoder.predict(check)\n",
        "plt.imshow(result.reshape(28,28))"
      ],
      "execution_count": 24,
      "outputs": [
        {
          "output_type": "execute_result",
          "data": {
            "text/plain": [
              "<matplotlib.image.AxesImage at 0x7f103961c450>"
            ]
          },
          "metadata": {
            "tags": []
          },
          "execution_count": 24
        },
        {
          "output_type": "display_data",
          "data": {
            "image/png": "[encoded data removed]",
            "text/plain": [
              "<Figure size 432x288 with 1 Axes>"
            ]
          },
          "metadata": {
            "tags": [],
            "needs_background": "light"
          }
        }
      ]
    },
    {
      "cell_type": "code",
      "metadata": {
        "id": "BQqWoe-nVvdc"
      },
      "source": [
        ""
      ],
      "execution_count": null,
      "outputs": []
    }
  ]
}